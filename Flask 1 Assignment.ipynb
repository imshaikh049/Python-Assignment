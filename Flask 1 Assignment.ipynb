{
 "cells": [
  {
   "cell_type": "code",
   "execution_count": null,
   "id": "b9f7aea3-67f4-46de-86e6-5e86bac5ceca",
   "metadata": {},
   "outputs": [],
   "source": [
    "Q1. What is Flask Framework? What are the advantages of Flask Framework?\n",
    "Flask is a lightweight web framework written in Python. It is designed to be simple and easy to use, allowing developers to build web applications quickly without the overhead of more complex frameworks. Flask is considered a micro-framework because it does not come with built-in support for database handling, form validation, or other features often found in larger frameworks, but it can easily be extended with third-party libraries.\n",
    "\n",
    "Advantages of Flask Framework:\n",
    "\n",
    "Lightweight and flexible: Flask is simple and easy to use, allowing developers to build applications with less effort.\n",
    "Modular and Scalable: It allows developers to create smaller modules, making the application scalable.\n",
    "Built-in development server: Flask includes a built-in server for testing and debugging applications during development.\n",
    "Extensible: Flask allows easy integration with third-party libraries and extensions like SQLAlchemy (for database), Flask-WTF (for forms), and others.\n",
    "Minimalist: Unlike other frameworks like Django, Flask gives developers the flexibility to add features as needed, making it highly customizable.\n",
    "Large community and support: Flask has a large developer community with ample resources for learning and problem-solving."
   ]
  },
  {
   "cell_type": "code",
   "execution_count": null,
   "id": "ed9a28e8-79b2-425e-9ecd-cdd37c14b47b",
   "metadata": {},
   "outputs": [],
   "source": [
    "Q2. Create a simple Flask application to display ‘Hello World!!’\n",
    "Here is a simple Flask application:\n",
    "    \n",
    "from flask import Flask\n",
    "\n",
    "app = Flask(__name__)\n",
    "\n",
    "@app.route('/')\n",
    "def hello_world():\n",
    "    return 'Hello World!!'\n",
    "\n",
    "if __name__ == '__main__':\n",
    "    app.run(debug=True)\n",
    "    \n",
    "To run this in a Jupyter Notebook, you can use a library like flask_ngrok to run the Flask app in a notebook. Then you can access the app using a public URL. Unfortunately, I can't execute this within my environment, but you can try this on your local machine.    \n",
    "    "
   ]
  },
  {
   "cell_type": "code",
   "execution_count": null,
   "id": "d175936e-e660-4078-bc7f-acdbd1af0185",
   "metadata": {},
   "outputs": [],
   "source": [
    "Q3. What is App Routing in Flask? Why do we use app routes?\n",
    "App Routing in Flask refers to the mapping of URLs to specific functions or handlers in the web application. It determines how different URLs are handled by the application. Routes are defined using the @app.route() decorator.\n",
    "\n",
    "Why do we use app routes?\n",
    "\n",
    "To define the URLs that users can access and associate them with specific functions in the Flask app.\n",
    "It helps in creating user-friendly URLs and improves navigation in the web application."
   ]
  },
  {
   "cell_type": "code",
   "execution_count": null,
   "id": "8ca186a8-193f-4756-830a-a93468e0b46f",
   "metadata": {},
   "outputs": [],
   "source": [
    "Q4. Create a “/welcome” route and a “/” route\n",
    "Here’s the Flask code for the /welcome and / routes:\n",
    "    \n",
    "from flask import Flask\n",
    "\n",
    "app = Flask(__name__)\n",
    "\n",
    "@app.route('/')\n",
    "def company_details():\n",
    "    return '''<h1>Company Name: ABC Corporation</h1>\n",
    "              <p>Location: India</p>\n",
    "              <p>Contact Detail: 999-999-9999</p>'''\n",
    "\n",
    "@app.route('/welcome')\n",
    "def welcome_message():\n",
    "    return '<h1>Welcome to ABC Corporation</h1>'\n",
    "\n",
    "if __name__ == '__main__':\n",
    "    app.run(debug=True)\n",
    "\n",
    "    \n",
    "You can run this code in your Jupyter Notebook using the same method mentioned above. Once it's running, you can visit the routes / and /welcome to see the output    "
   ]
  },
  {
   "cell_type": "code",
   "execution_count": null,
   "id": "1638c833-9320-430d-8975-20bbd03eea97",
   "metadata": {},
   "outputs": [],
   "source": [
    "Q5. What function is used in Flask for URL Building? Demonstrate url_for()\n",
    "In Flask, the url_for() function is used for URL building. It dynamically generates the URL for a given function, ensuring that the correct URL is used even if the structure of the routes changes later.\n",
    "\n",
    "Here’s an example:\n",
    "from flask import Flask, url_for\n",
    "\n",
    "app = Flask(__name__)\n",
    "\n",
    "@app.route('/')\n",
    "def index():\n",
    "    return 'This is the Index page'\n",
    "\n",
    "@app.route('/about')\n",
    "def about():\n",
    "    return 'This is the About page'\n",
    "\n",
    "@app.route('/profile/<username>')\n",
    "def profile(username):\n",
    "    return f'Profile: {username}'\n",
    "\n",
    "@app.route('/links')\n",
    "def show_links():\n",
    "    index_url = url_for('index')\n",
    "    about_url = url_for('about')\n",
    "    profile_url = url_for('profile', username='JohnDoe')\n",
    "    \n",
    "    return f'''\n",
    "    <p>Index URL: {index_url}</p>\n",
    "    <p>About URL: {about_url}</p>\n",
    "    <p>Profile URL: {profile_url}</p>\n",
    "    '''\n",
    "\n",
    "if __name__ == '__main__':\n",
    "    app.run(debug=True)\n",
    "\n",
    "In this example, visiting the /links route will display the dynamically generated URLs for the index, about, and profile pages.    "
   ]
  },
  {
   "cell_type": "code",
   "execution_count": null,
   "id": "083c73ba-e881-4aca-9171-62189edb0fe6",
   "metadata": {},
   "outputs": [],
   "source": []
  },
  {
   "cell_type": "code",
   "execution_count": null,
   "id": "152795bd-6506-44f7-a147-f5dbe1add9ae",
   "metadata": {},
   "outputs": [],
   "source": []
  },
  {
   "cell_type": "code",
   "execution_count": null,
   "id": "890371db-e7c5-44fd-aa19-abb1f206e0df",
   "metadata": {},
   "outputs": [],
   "source": []
  },
  {
   "cell_type": "code",
   "execution_count": null,
   "id": "1fa322de-fed2-4b1e-b3bc-bfc4ccf32b52",
   "metadata": {},
   "outputs": [],
   "source": []
  },
  {
   "cell_type": "code",
   "execution_count": null,
   "id": "fea911d9-a0cf-421a-80d7-2cecec65a8e0",
   "metadata": {},
   "outputs": [],
   "source": []
  }
 ],
 "metadata": {
  "kernelspec": {
   "display_name": "Python 3 (ipykernel)",
   "language": "python",
   "name": "python3"
  },
  "language_info": {
   "codemirror_mode": {
    "name": "ipython",
    "version": 3
   },
   "file_extension": ".py",
   "mimetype": "text/x-python",
   "name": "python",
   "nbconvert_exporter": "python",
   "pygments_lexer": "ipython3",
   "version": "3.10.8"
  }
 },
 "nbformat": 4,
 "nbformat_minor": 5
}
