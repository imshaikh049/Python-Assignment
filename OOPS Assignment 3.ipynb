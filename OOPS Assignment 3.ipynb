{
 "cells": [
  {
   "cell_type": "code",
   "execution_count": null,
   "id": "c8a2bc01-7a88-4a2f-8e24-96785ded716c",
   "metadata": {},
   "outputs": [],
   "source": [
    "Q1. Opening Files and Modes\n",
    "Which function is used to open a file?\n",
    "\n",
    "The function used to open a file in Python is open().\n",
    "What are the different modes of opening a file? Explain each mode of file opening.\n",
    "\n",
    "'r': Read mode (default). Opens the file for reading. The file must exist.\n",
    "'w': Write mode. Opens the file for writing. If the file already exists, it will be truncated. If it does not exist, a new file will be created.\n",
    "'a': Append mode. Opens the file for writing, but data is appended to the end of the file if it exists. If the file does not exist, a new file is created.\n",
    "'b': Binary mode. Opens the file in binary mode. Can be combined with other modes, e.g., 'rb' or 'wb'.\n",
    "'x': Exclusive creation. Opens the file for exclusive creation. If the file already exists, the operation fails.\n",
    "'r+': Read and write mode. Opens the file for both reading and writing. The file must exist.\n",
    "'w+': Write and read mode. Opens the file for both reading and writing. If the file already exists, it will be truncated. If it does not exist, a new file will be created.\n",
    "'a+': Append and read mode. Opens the file for both appending and reading. If the file does not exist, a new file is created.\n"
   ]
  },
  {
   "cell_type": "code",
   "execution_count": null,
   "id": "8aff857f-71eb-485b-a931-6d90022b5228",
   "metadata": {},
   "outputs": [],
   "source": [
    "Q2. Importance of close() Function\n",
    "Why is the close() function used?\n",
    "\n",
    "The close() function is used to close an open file. This is important to release system resources and ensure that any changes made to the file are saved.\n",
    "Why is it important to close a file?\n",
    "\n",
    "Resource Management: Closing a file frees up system resources that were allocated to the file.\n",
    "Data Integrity: Ensures that all data is properly written and saved to the file.\n",
    "Prevents Data Loss: Avoids data corruption by making sure that all changes are flushed from the buffer to the file.\n"
   ]
  },
  {
   "cell_type": "code",
   "execution_count": null,
   "id": "38a5bc9d-70c6-41b1-bc85-2e250e031c82",
   "metadata": {},
   "outputs": [],
   "source": [
    "Q3. Python Program to Create, Write, and Read a File\n",
    "\n",
    "# Creating and writing to the file\n",
    "with open('data_scientist.txt', 'w') as file:\n",
    "    file.write('I want to become a Data Scientist')\n",
    "\n",
    "# Opening and reading the content of the file\n",
    "with open('data_scientist.txt', 'r') as file:\n",
    "    content = file.read()\n",
    "    print(content)"
   ]
  },
  {
   "cell_type": "code",
   "execution_count": null,
   "id": "89619bf2-9088-4215-a746-e7d4d884977f",
   "metadata": {},
   "outputs": [],
   "source": [
    "Q4. read(), readline(), and readlines()\n",
    "read(): Reads the entire content of the file as a single string.\n",
    "\n",
    "with open('example.txt', 'r') as file:\n",
    "    content = file.read()\n",
    "    print(content)\n",
    "readline(): Reads a single line from the file. Each call to readline() returns the next line.\n",
    "\n",
    "\n",
    "with open('example.txt', 'r') as file:\n",
    "    line = file.readline()\n",
    "    while line:\n",
    "        print(line, end='')\n",
    "        line = file.readline()\n",
    "readlines(): Reads all lines of the file and returns them as a list of strings.\n",
    "\n",
    "\n",
    "with open('example.txt', 'r') as file:\n",
    "    lines = file.readlines()\n",
    "    for line in lines:\n",
    "        print(line, end='')"
   ]
  },
  {
   "cell_type": "code",
   "execution_count": null,
   "id": "c59ceb64-5a80-42c5-b48b-780e94834613",
   "metadata": {},
   "outputs": [],
   "source": [
    "Q5. with Statement and open()\n",
    "Why is the with statement used with open()?\n",
    "\n",
    "The with statement is used to handle file operations. It ensures that the file is properly closed after its suite finishes, even if an exception is raised.\n",
    "Advantage of using with statement:\n",
    "\n",
    "Automatic Resource Management: Guarantees that the file is closed properly after its block of code is executed.\n",
    "Cleaner Code: Reduces the need for explicit close() calls and exception handling for file closing.\n"
   ]
  },
  {
   "cell_type": "code",
   "execution_count": null,
   "id": "a5049cf1-7181-49dc-8254-0e39740b1710",
   "metadata": {},
   "outputs": [],
   "source": [
    "Q6. write() and writelines() Functions\n",
    "write(): Writes a single string to the file. It does not add a newline character at the end.\n",
    "\n",
    "\n",
    "with open('example.txt', 'w') as file:\n",
    "    file.write('Hello, World!\\n')\n",
    "writelines(): Writes a list of strings to the file. Each string in the list is written consecutively. Newline characters must be added manually if needed.\n",
    "\n",
    "\n",
    "lines = ['Hello, World!\\n', 'Welcome to Python programming.']\n",
    "\n",
    "with open('example.txt', 'w') as file:\n",
    "    file.writelines(lines)"
   ]
  },
  {
   "cell_type": "code",
   "execution_count": null,
   "id": "01729973-3039-4cfb-8dea-46541be4ddcb",
   "metadata": {},
   "outputs": [],
   "source": []
  },
  {
   "cell_type": "code",
   "execution_count": null,
   "id": "09548244-c686-4217-bc07-ba85dd7e44d4",
   "metadata": {},
   "outputs": [],
   "source": []
  }
 ],
 "metadata": {
  "kernelspec": {
   "display_name": "Python 3 (ipykernel)",
   "language": "python",
   "name": "python3"
  },
  "language_info": {
   "codemirror_mode": {
    "name": "ipython",
    "version": 3
   },
   "file_extension": ".py",
   "mimetype": "text/x-python",
   "name": "python",
   "nbconvert_exporter": "python",
   "pygments_lexer": "ipython3",
   "version": "3.10.8"
  }
 },
 "nbformat": 4,
 "nbformat_minor": 5
}
