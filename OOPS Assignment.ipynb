{
 "cells": [
  {
   "cell_type": "code",
   "execution_count": null,
   "id": "2eca4834-c1b5-46ae-86fb-12b4395e8273",
   "metadata": {},
   "outputs": [],
   "source": [
    "## Q1. Explain Class and Object with respect to Object-Oriented Programming. Give a suitable example."
   ]
  },
  {
   "cell_type": "code",
   "execution_count": 2,
   "id": "36578aab-015a-40fe-a3b2-47385ad3fa35",
   "metadata": {},
   "outputs": [
    {
     "name": "stdout",
     "output_type": "stream",
     "text": [
      "2021 Toyota Corolla\n"
     ]
    }
   ],
   "source": [
    "# Class: A class in OOP is a blueprint or template for creating objects. It defines a set of attributes (data) and methods (functions) that can be used to perform operations on the data. Classes encapsulate data and functionality into a single unit.\n",
    "\n",
    "# Object: An object is an instance of a class. It represents a specific realization of the class, with its own unique set of data and access to the methods defined by the class.\n",
    "\n",
    "# Example:\n",
    "\n",
    "# Define a class\n",
    "class Car:\n",
    "    # Constructor method\n",
    "    def __init__(self, make, model, year):\n",
    "        self.make = make\n",
    "        self.model = model\n",
    "        self.year = year\n",
    "\n",
    "    # Method to display car information\n",
    "    def display_info(self):\n",
    "        return f\"{self.year} {self.make} {self.model}\"\n",
    "\n",
    "# Create an object of the Car class\n",
    "my_car = Car(\"Toyota\", \"Corolla\", 2021)\n",
    "\n",
    "# Access the object's method\n",
    "print(my_car.display_info())  # Output: 2021 Toyota Corolla\n"
   ]
  },
  {
   "cell_type": "markdown",
   "id": "a745b961-30a6-43aa-bce8-3bf6aa405041",
   "metadata": {},
   "source": [
    "## Q2. Name the four pillars of OOPs."
   ]
  },
  {
   "cell_type": "code",
   "execution_count": null,
   "id": "0afccdca-018f-40e3-901f-bb7cb63d6315",
   "metadata": {},
   "outputs": [],
   "source": [
    "The four pillars of Object-Oriented Programming are:\n",
    "\n",
    "Encapsulation: Bundling the data and methods that operate on the data into a single unit or class.\n",
    "Abstraction: Hiding the complex implementation details and showing only the essential features of an object.\n",
    "Inheritance: Creating new classes based on existing classes to promote code reusability and establish a hierarchical relationship.\n",
    "Polymorphism: Allowing objects of different classes to be treated as objects of a common superclass, especially through method overriding or method overloading."
   ]
  },
  {
   "cell_type": "markdown",
   "id": "d7f25761-d064-451a-91db-f57d9c60d6fd",
   "metadata": {},
   "source": [
    "## Q3. Explain why the __init__()function is used. Give a suitable example."
   ]
  },
  {
   "cell_type": "code",
   "execution_count": 4,
   "id": "7bbc5e0f-98b9-4bcb-92e4-8af4ccb4a6ef",
   "metadata": {},
   "outputs": [
    {
     "name": "stdout",
     "output_type": "stream",
     "text": [
      "Hello, my name is Alice and I am 30 years old.\n"
     ]
    }
   ],
   "source": [
    "# The __init__() function is known as the constructor in Python. It is used to initialize the attributes of an object when the object is created. It allows you to set up the initial state of an object by assigning values to its attributes.\n",
    "\n",
    "# Example:\n",
    "\n",
    "class Person:\n",
    "    def __init__(self, name, age):\n",
    "        self.name = name\n",
    "        self.age = age\n",
    "\n",
    "    def greet(self):\n",
    "        return f\"Hello, my name is {self.name} and I am {self.age} years old.\"\n",
    "\n",
    "# Create an object of the Person class\n",
    "person1 = Person(\"Alice\", 30)\n",
    "\n",
    "# Access the object's method\n",
    "print(person1.greet())  # Output: Hello, my name is Alice and I am 30 years old."
   ]
  },
  {
   "cell_type": "markdown",
   "id": "8eae81d0-07c7-4ce1-8e7f-3cff1d0d4e36",
   "metadata": {},
   "source": [
    "## Q4. Why self is used in OOPs?"
   ]
  },
  {
   "cell_type": "code",
   "execution_count": 6,
   "id": "facb1af3-7a2c-4857-80f4-90749e7483eb",
   "metadata": {},
   "outputs": [
    {
     "name": "stdout",
     "output_type": "stream",
     "text": [
      "Buddy says woof!\n"
     ]
    }
   ],
   "source": [
    "# In Python, self is used in instance methods to refer to the instance of the class on which the method is called. It allows you to access attributes and methods of the class from within its methods. The self parameter is a reference to the current instance of the class.\n",
    "\n",
    "\n",
    "class Dog:\n",
    "    def __init__(self, name, breed):\n",
    "        self.name = name\n",
    "        self.breed = breed\n",
    "\n",
    "    def bark(self):\n",
    "        return f\"{self.name} says woof!\"\n",
    "\n",
    "# Create an object of the Dog class\n",
    "dog1 = Dog(\"Buddy\", \"Golden Retriever\")\n",
    "\n",
    "# Access the object's method\n",
    "print(dog1.bark())  # Output: Buddy says woof!\n",
    "# In this example, self.name and self.breed refer to the attributes of the Dog instance, and self allows us to access these attributes inside the bark method.\n"
   ]
  },
  {
   "cell_type": "markdown",
   "id": "7594d88f-6f59-40db-bc51-82b1d98f5ba2",
   "metadata": {},
   "source": [
    "## Q5. What is inheritance? Give an example for each type of inheritance."
   ]
  },
  {
   "cell_type": "code",
   "execution_count": null,
   "id": "652511b6-4272-4e5c-898e-13b6aa47dc21",
   "metadata": {},
   "outputs": [],
   "source": [
    "Inheritance is a mechanism in OOP that allows one class (the child or subclass) to inherit attributes and methods from another class (the parent or superclass). This promotes code reusability and creates a hierarchical relationship between classes.\n",
    "\n",
    "Types of inheritance with examples:\n",
    "\n",
    "Single Inheritance: A subclass inherits from one superclass.\n",
    "\n",
    "\n",
    "class Animal:\n",
    "    def speak(self):\n",
    "        return \"Animal speaks\"\n",
    "\n",
    "class Dog(Animal):\n",
    "    def bark(self):\n",
    "        return \"Dog barks\"\n",
    "\n",
    "dog = Dog()\n",
    "print(dog.speak())  # Output: Animal speaks\n",
    "print(dog.bark())   # Output: Dog barks\n",
    "Multiple Inheritance: A subclass inherits from more than one superclass.\n",
    "\n",
    "\n",
    "class Father:\n",
    "    def skills(self):\n",
    "        return \"Gardening, Cooking\"\n",
    "\n",
    "class Mother:\n",
    "    def skills(self):\n",
    "        return \"Painting, Singing\"\n",
    "\n",
    "class Child(Father, Mother):\n",
    "    def show_skills(self):\n",
    "        return f\"Skills: {Father.skills(self)}, {Mother.skills(self)}\"\n",
    "\n",
    "child = Child()\n",
    "print(child.show_skills())  # Output: Skills: Gardening, Cooking, Painting, Singing\n",
    "Multilevel Inheritance: A subclass inherits from another subclass.\n",
    "\n",
    "\n",
    "class Grandparent:\n",
    "    def heritage(self):\n",
    "        return \"Royal family\"\n",
    "\n",
    "class Parent(Grandparent):\n",
    "    def profession(self):\n",
    "        return \"Engineer\"\n",
    "\n",
    "class Child(Parent):\n",
    "    def hobby(self):\n",
    "        return \"Painting\"\n",
    "\n",
    "child = Child()\n",
    "print(child.heritage())   # Output: Royal family\n",
    "print(child.profession()) # Output: Engineer\n",
    "print(child.hobby())      # Output: Painting\n",
    "Hierarchical Inheritance: Multiple subclasses inherit from a single superclass.\n",
    "\n",
    "\n",
    "class Vehicle:\n",
    "    def type(self):\n",
    "        return \"Vehicle\"\n",
    "\n",
    "class Car(Vehicle):\n",
    "    def wheels(self):\n",
    "        return \"4 wheels\"\n",
    "\n",
    "class Bike(Vehicle):\n",
    "    def wheels(self):\n",
    "        return \"2 wheels\"\n",
    "\n",
    "car = Car()\n",
    "bike = Bike()\n",
    "print(car.type())   # Output: Vehicle\n",
    "print(car.wheels()) # Output: 4 wheels\n",
    "print(bike.type())  # Output: Vehicle\n",
    "print(bike.wheels())# Output: 2 wheels\n",
    "Hybrid Inheritance: A combination of two or more types of inheritance.\n",
    "\n",
    "python\n",
    "Copy code\n",
    "class Person:\n",
    "    def name(self):\n",
    "        return \"John\"\n",
    "\n",
    "class Employee(Person):\n",
    "    def job(self):\n",
    "        return \"Software Developer\"\n",
    "\n",
    "class Manager(Employee):\n",
    "    def role(self):\n",
    "        return \"Project Manager\"\n",
    "\n",
    "manager = Manager()\n",
    "print(manager.name())  # Output: John\n",
    "print(manager.job())   # Output: Software Developer\n",
    "print(manager.role())  # Output: Project Manager"
   ]
  },
  {
   "cell_type": "code",
   "execution_count": null,
   "id": "cb76e423-6b82-4fd2-a5c7-224fdb710382",
   "metadata": {},
   "outputs": [],
   "source": []
  }
 ],
 "metadata": {
  "kernelspec": {
   "display_name": "Python 3 (ipykernel)",
   "language": "python",
   "name": "python3"
  },
  "language_info": {
   "codemirror_mode": {
    "name": "ipython",
    "version": 3
   },
   "file_extension": ".py",
   "mimetype": "text/x-python",
   "name": "python",
   "nbconvert_exporter": "python",
   "pygments_lexer": "ipython3",
   "version": "3.10.8"
  }
 },
 "nbformat": 4,
 "nbformat_minor": 5
}
