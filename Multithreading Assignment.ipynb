{
 "cells": [
  {
   "cell_type": "code",
   "execution_count": null,
   "id": "59f51e99-e0e9-47a4-809a-e3efe0c5a42b",
   "metadata": {},
   "outputs": [],
   "source": [
    "Q1. What is Multithreading in Python? Why is it used? Name the module used to handle threads in Python.\n",
    "Multithreading in Python refers to the ability to run multiple threads (lighter units of processes) concurrently within a program. Each thread operates in the same memory space but performs different tasks, enabling more efficient use of resources. It's used for:\n",
    "\n",
    "Performing multiple tasks concurrently, such as handling I/O-bound operations (file reading, network communication).\n",
    "Improving the efficiency of a program, especially when dealing with multiple I/O operations.\n",
    "Python uses the threading module to handle threads."
   ]
  },
  {
   "cell_type": "code",
   "execution_count": null,
   "id": "e30be854-f3da-4a9c-a07e-051d0f8161fa",
   "metadata": {},
   "outputs": [],
   "source": [
    "Q2. Why is the threading module used? Write the use of the following functions:\n",
    "The threading module provides an easier-to-use and higher-level interface to work with threads in Python.\n",
    "\n",
    "activeCount(): Returns the number of thread objects that are currently active.\n",
    "\n",
    "import threading\n",
    "print(\"Active Threads:\", threading.activeCount())\n",
    "currentThread(): Returns the current thread object corresponding to the caller's thread of control.\n",
    "\n",
    "\n",
    "import threading\n",
    "print(\"Current Thread:\", threading.currentThread())\n",
    "enumerate(): Returns a list of all thread objects that are currently active.\n",
    "\n",
    "\n",
    "import threading\n",
    "print(\"All Active Threads:\", threading.enumerate())"
   ]
  },
  {
   "cell_type": "code",
   "execution_count": null,
   "id": "1a25d50f-5de8-4eac-8e63-f3001f7a1732",
   "metadata": {},
   "outputs": [],
   "source": [
    "Q3. Explain the following functions:\n",
    "run(): The run() method defines the code that a thread executes when it starts. It is the entry point for the thread's activity, but it is not called directly by users; instead, the start() method is used, which internally calls run().\n",
    "\n",
    "start(): Starts the thread's activity. When a thread’s start() method is called, the thread starts and the run() method is executed in a new thread.\n",
    "\n",
    "\n",
    "import threading\n",
    "\n",
    "def task():\n",
    "    print(\"Thread is running\")\n",
    "\n",
    "t = threading.Thread(target=task)\n",
    "t.start()\n",
    "join(): Waits for the thread to finish execution. If a thread has been started, join() can be called to ensure that the thread completes before the program continues.\n",
    "\n",
    "\n",
    "t.join()  # Waits for the thread `t` to complete\n",
    "isAlive(): Returns a boolean value indicating whether a thread is still alive (i.e., running). This method has been replaced by is_alive() in Python 3.\n",
    "\n",
    "\n",
    "if t.is_alive():\n",
    "    print(\"Thread is still running\")"
   ]
  },
  {
   "cell_type": "code",
   "execution_count": null,
   "id": "9340688a-f7ff-455a-80da-f3e2e792f8b8",
   "metadata": {},
   "outputs": [],
   "source": [
    "Q4. Python program to create two threads: one for printing squares and the other for printing cubes.\n",
    "\n",
    "import threading\n",
    "\n",
    "def print_squares(numbers):\n",
    "    for n in numbers:\n",
    "        print(f\"Square of {n}: {n*n}\")\n",
    "\n",
    "def print_cubes(numbers):\n",
    "    for n in numbers:\n",
    "        print(f\"Cube of {n}: {n*n*n}\")\n",
    "\n",
    "numbers = [1, 2, 3, 4, 5]\n",
    "\n",
    "# Creating threads\n",
    "t1 = threading.Thread(target=print_squares, args=(numbers,))\n",
    "t2 = threading.Thread(target=print_cubes, args=(numbers,))\n",
    "\n",
    "# Starting threads\n",
    "t1.start()\n",
    "t2.start()\n",
    "\n",
    "# Waiting for threads to finish\n",
    "t1.join()\n",
    "t2.join()\n",
    "\n",
    "print(\"Done!\")"
   ]
  },
  {
   "cell_type": "code",
   "execution_count": null,
   "id": "50b227fd-7652-4e48-b741-329adacd9cd4",
   "metadata": {},
   "outputs": [],
   "source": [
    "Q5. Advantages and Disadvantages of Multithreading\n",
    "Advantages:\n",
    "\n",
    "Concurrency: Multiple threads can perform tasks concurrently, especially useful for I/O-bound tasks.\n",
    "Improved Performance: Efficient use of system resources for lightweight operations.\n",
    "Responsiveness: Useful in GUI applications where multithreading keeps the interface responsive while performing background tasks.\n",
    "Disadvantages:\n",
    "\n",
    "Global Interpreter Lock (GIL): Python's GIL can limit the performance benefits of multithreading, especially for CPU-bound tasks.\n",
    "Complexity: Multithreading adds complexity to the program, making debugging and maintenance harder.\n",
    "Synchronization Issues: Can lead to issues like race conditions, deadlocks, and resource contention if not handled carefully.\n"
   ]
  },
  {
   "cell_type": "code",
   "execution_count": null,
   "id": "a1100309-0d48-435d-9005-70294b3fca9e",
   "metadata": {},
   "outputs": [],
   "source": [
    "Q6. Explain Deadlocks and Race Conditions\n",
    "Deadlocks: A deadlock occurs when two or more threads are blocked, waiting for each other to release resources. Neither can proceed, leading to a system-wide freeze.\n",
    "\n",
    "Example: If Thread A holds Resource 1 and waits for Resource 2, while Thread B holds Resource 2 and waits for Resource 1, a deadlock occurs.\n",
    "\n",
    "Race Conditions: A race condition occurs when multiple threads access and modify shared data concurrently, and the final outcome depends on the timing of the threads. This leads to unpredictable and incorrect results.\n",
    "\n",
    "Example: If two threads try to increment the same variable at the same time, the final result may not reflect both increments due to overlapping operations.\n"
   ]
  }
 ],
 "metadata": {
  "kernelspec": {
   "display_name": "Python 3 (ipykernel)",
   "language": "python",
   "name": "python3"
  },
  "language_info": {
   "codemirror_mode": {
    "name": "ipython",
    "version": 3
   },
   "file_extension": ".py",
   "mimetype": "text/x-python",
   "name": "python",
   "nbconvert_exporter": "python",
   "pygments_lexer": "ipython3",
   "version": "3.10.8"
  }
 },
 "nbformat": 4,
 "nbformat_minor": 5
}
