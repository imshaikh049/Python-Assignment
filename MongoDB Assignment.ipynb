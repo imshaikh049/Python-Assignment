{
 "cells": [
  {
   "cell_type": "code",
   "execution_count": null,
   "id": "f3a97e4e-fe73-40b7-94a1-bd576e076eda",
   "metadata": {},
   "outputs": [],
   "source": [
    "Q1. What is MongoDB? Explain non-relational databases in short. In which scenarios is it preferred to use MongoDB over SQL databases?\n",
    "MongoDB is a NoSQL, document-oriented database that stores data in a flexible, JSON-like format called BSON (Binary JSON). It allows for schema-less database designs and is well-suited for handling unstructured or semi-structured data.\n",
    "\n",
    "Non-relational databases (NoSQL databases) are designed to store and manage data without the use of fixed schema tables, which is different from traditional relational databases (SQL). They can store data in different formats like key-value pairs, documents, column-based, or graph formats.\n",
    "\n",
    "Preferred Scenarios for MongoDB:\n",
    "\n",
    "When dealing with large volumes of unstructured or semi-structured data.\n",
    "For applications requiring high performance and scalability.\n",
    "When rapid iteration is needed (schema-less design allows for flexibility in data models).\n",
    "For real-time analytics and data streaming use cases.\n",
    "When horizontal scaling (sharding) is required for distributed databases."
   ]
  },
  {
   "cell_type": "code",
   "execution_count": null,
   "id": "7378f4e4-607e-4e58-bbb3-03e63db6320e",
   "metadata": {},
   "outputs": [],
   "source": [
    "Q2. State and Explain the Features of MongoDB\n",
    "Schema-less: MongoDB doesn't require a fixed schema for its collections, allowing for flexibility in data structure.\n",
    "Document-Oriented: Data is stored as BSON (Binary JSON) documents, which allows for complex nested data structures.\n",
    "Scalability: MongoDB supports horizontal scaling using sharding, which helps distribute data across multiple servers.\n",
    "Indexing: MongoDB supports indexes to improve query performance.\n",
    "Replication: Supports replication for high availability using replica sets, ensuring redundancy.\n",
    "Aggregation Framework: Allows for advanced data analysis through its powerful aggregation operations like filtering, grouping, and transforming data.\n",
    "Ad-hoc Queries: MongoDB supports dynamic queries, allowing for flexibility in how data is accessed and queried.\n",
    "Load Balancing: Automatically distributes data across servers, ensuring consistent and high availability.\n"
   ]
  },
  {
   "cell_type": "code",
   "execution_count": null,
   "id": "dff607ca-a47f-4502-a6bd-6c7c44174882",
   "metadata": {},
   "outputs": [],
   "source": [
    "Q3. Write a Code to Connect MongoDB to Python. Also, Create a Database and a Collection in MongoDB.\n",
    "\n",
    "import pymongo\n",
    "\n",
    "# Connecting to MongoDB server\n",
    "client = pymongo.MongoClient(\"mongodb://localhost:27017/\")\n",
    "\n",
    "# Creating a database\n",
    "db = client[\"mydatabase\"]\n",
    "\n",
    "# Creating a collection\n",
    "collection = db[\"mycollection\"]\n",
    "\n",
    "print(\"Database and collection created successfully.\")\n"
   ]
  },
  {
   "cell_type": "code",
   "execution_count": null,
   "id": "73aef1ae-a93e-49cb-8af6-ff6ff2c0a7a3",
   "metadata": {},
   "outputs": [],
   "source": [
    "Q4. Using the Database and Collection Created in Question 3, Write a Code to Insert One Record and Insert Many Records. Use the find() and find_one() Methods to Print the Inserted Records.\n",
    "\n",
    "# Insert one record\n",
    "one_record = {\"name\": \"John\", \"age\": 25, \"city\": \"New York\"}\n",
    "collection.insert_one(one_record)\n",
    "\n",
    "# Insert many records\n",
    "many_records = [\n",
    "    {\"name\": \"Alice\", \"age\": 30, \"city\": \"London\"},\n",
    "    {\"name\": \"Bob\", \"age\": 22, \"city\": \"Paris\"},\n",
    "    {\"name\": \"Eve\", \"age\": 29, \"city\": \"Berlin\"}\n",
    "]\n",
    "collection.insert_many(many_records)\n",
    "\n",
    "# Find one record\n",
    "print(\"Single Record:\", collection.find_one({\"name\": \"John\"}))\n",
    "\n",
    "# Find all records\n",
    "print(\"All Records:\")\n",
    "for record in collection.find():\n",
    "    print(record)"
   ]
  },
  {
   "cell_type": "code",
   "execution_count": null,
   "id": "14472410-a793-480d-a187-b8af190f8b46",
   "metadata": {},
   "outputs": [],
   "source": [
    "Q5. Explain How You Can Use the find() Method to Query the MongoDB Database. Write a Simple Code to Demonstrate This.\n",
    "The find() method is used to retrieve multiple documents from a MongoDB collection. It returns a cursor, which you can iterate through to get all the matching documents.\n",
    "\n",
    "\n",
    "# Finding records with a condition\n",
    "query = {\"age\": {\"$gt\": 25}}  # Query for records where age is greater than 25\n",
    "results = collection.find(query)\n",
    "\n",
    "# Printing the results\n",
    "print(\"Records with age > 25:\")\n",
    "for record in results:\n",
    "    print(record)\n",
    "In the above code, the query {\"age\": {\"$gt\": 25}} filters documents where the age field is greater than 25.\n"
   ]
  },
  {
   "cell_type": "code",
   "execution_count": null,
   "id": "48553fbc-417f-4464-8719-a0d5e207243a",
   "metadata": {},
   "outputs": [],
   "source": [
    "Q6. Explain the sort() Method. Give an Example to Demonstrate Sorting in MongoDB.\n",
    "The sort() method is used to sort the documents in the MongoDB collection based on one or more fields. It can sort data in ascending (1) or descending (-1) order.\n",
    "\n",
    "\n",
    "# Sort by age in ascending order\n",
    "sorted_records = collection.find().sort(\"age\", 1)\n",
    "\n",
    "# Printing sorted results\n",
    "print(\"Records sorted by age (ascending):\")\n",
    "for record in sorted_records:\n",
    "    print(record)\n",
    "In this example, the sort(\"age\", 1) sorts the documents by the age field in ascending order.\n"
   ]
  },
  {
   "cell_type": "code",
   "execution_count": null,
   "id": "4c8660ed-c79b-4602-a970-f66b6228df7b",
   "metadata": {},
   "outputs": [],
   "source": [
    "Q7. Explain Why delete_one(), delete_many(), and drop() Are Used.\n",
    "delete_one(): Removes a single document that matches a specified filter from the collection.\n",
    "\n",
    "\n",
    "collection.delete_one({\"name\": \"John\"})\n",
    "This deletes the first document where the name field is \"John\".\n",
    "\n",
    "delete_many(): Deletes all documents that match a specified filter from the collection.\n",
    "\n",
    "\n",
    "collection.delete_many({\"age\": {\"$lt\": 25}})\n",
    "This deletes all documents where the age is less than 25.\n",
    "\n",
    "drop(): Deletes the entire collection and its documents from the database.\n",
    "\n",
    "\n",
    "collection.drop()\n",
    "This removes the entire collection mycollection from the database.\n"
   ]
  }
 ],
 "metadata": {
  "kernelspec": {
   "display_name": "Python 3 (ipykernel)",
   "language": "python",
   "name": "python3"
  },
  "language_info": {
   "codemirror_mode": {
    "name": "ipython",
    "version": 3
   },
   "file_extension": ".py",
   "mimetype": "text/x-python",
   "name": "python",
   "nbconvert_exporter": "python",
   "pygments_lexer": "ipython3",
   "version": "3.10.8"
  }
 },
 "nbformat": 4,
 "nbformat_minor": 5
}
