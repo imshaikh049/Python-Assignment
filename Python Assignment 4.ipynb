{
 "cells": [
  {
   "cell_type": "code",
   "execution_count": null,
   "id": "2c8f14b9-d26b-4ebc-ad9c-5fe3291d7b68",
   "metadata": {},
   "outputs": [],
   "source": [
    "Q1. Who developed Python Programming Language?\n",
    "\n",
    "Ans. Guido van Rossum"
   ]
  },
  {
   "cell_type": "code",
   "execution_count": null,
   "id": "98b09210-fb93-48df-b5c5-9deda32986ea",
   "metadata": {},
   "outputs": [],
   "source": [
    "Q2. Which type of Programming does Python support?\n",
    "\n",
    "Ans. Python supports multiple paradigms such as procedural, object-oriented, and functional programming."
   ]
  },
  {
   "cell_type": "code",
   "execution_count": null,
   "id": "da4b0e35-1ded-48de-963a-65626208411e",
   "metadata": {},
   "outputs": [],
   "source": [
    "Q3. Is Python case-sensitive when dealing with identifiers?\n",
    "\n",
    "Ans. Yes, Python is case-sensitive."
   ]
  },
  {
   "cell_type": "code",
   "execution_count": null,
   "id": "734ebddd-da46-46df-babe-0842d779651a",
   "metadata": {},
   "outputs": [],
   "source": [
    "Q4. What is the correct extension of the Python file?\n",
    "\n",
    "Ans. .py"
   ]
  },
  {
   "cell_type": "code",
   "execution_count": null,
   "id": "915c631d-572c-4082-b3f3-24e4e9919878",
   "metadata": {},
   "outputs": [],
   "source": [
    "Q5. Is Python code compiled or interpreted?\n",
    "\n",
    "Ans. Python is an interpreted language."
   ]
  },
  {
   "cell_type": "code",
   "execution_count": null,
   "id": "9f19952d-4131-4d0b-8f9a-580daa2c01e3",
   "metadata": {},
   "outputs": [],
   "source": [
    "Q6. Name a few blocks of code used to define in Python language?\n",
    "\n",
    "Ans. Functions, classes, loops, conditional statements."
   ]
  },
  {
   "cell_type": "code",
   "execution_count": null,
   "id": "a137bed0-f23f-47c3-866a-67cd399b483f",
   "metadata": {},
   "outputs": [],
   "source": [
    "Q7. State a character used to give single-line comments in Python?\n",
    "\n",
    "Ans. #"
   ]
  },
  {
   "cell_type": "code",
   "execution_count": null,
   "id": "1ada9bf8-d4df-4166-885a-2c97606b912e",
   "metadata": {},
   "outputs": [],
   "source": [
    "Q8. Mention functions which can help us to find the version of Python that we are currently working on?\n",
    "\n",
    "Ans. python --version, sys.version, platform.python_version()"
   ]
  },
  {
   "cell_type": "code",
   "execution_count": null,
   "id": "bfea245c-408c-4c8b-ba04-a3518d805c2d",
   "metadata": {},
   "outputs": [],
   "source": [
    "Q9. Python supports the creation of anonymous functions at runtime, using a construct called __________.\n",
    "\n",
    "Ans. lambda"
   ]
  },
  {
   "cell_type": "code",
   "execution_count": null,
   "id": "3f3ab1e6-0b82-43f0-b0cf-4debc832af74",
   "metadata": {},
   "outputs": [],
   "source": [
    "Q10. What does pip stand for Python?\n",
    "\n",
    "Pip Installs Packages (PIP is the package manager for Python).\n",
    "Mention a few built-in functions in Python?\n",
    "print(), len(), input(), type(), range(), max(), min()"
   ]
  },
  {
   "cell_type": "code",
   "execution_count": null,
   "id": "5f961390-9518-47cd-a1f5-848cb413f2da",
   "metadata": {},
   "outputs": [],
   "source": [
    "What is the maximum possible length of an identifier in Python?\n",
    "There is no official limit on the length, but it's practically limited by memory."
   ]
  },
  {
   "cell_type": "code",
   "execution_count": null,
   "id": "4f6fd378-557f-44aa-ae72-4a72a6996d5b",
   "metadata": {},
   "outputs": [],
   "source": [
    "What are the benefits of using Python?\n",
    "Easy to learn and use, extensive libraries, portability, scalability, and readability."
   ]
  },
  {
   "cell_type": "code",
   "execution_count": null,
   "id": "12702d3b-327d-4493-b8c3-4663a6134c19",
   "metadata": {},
   "outputs": [],
   "source": [
    "How is memory managed in Python?\n",
    "Python uses an automatic garbage collection system for memory management."
   ]
  },
  {
   "cell_type": "code",
   "execution_count": null,
   "id": "fcedf5c2-1a4a-4e6a-8e6f-e0dd03b1ef4b",
   "metadata": {},
   "outputs": [],
   "source": [
    "How to install Python on Windows and set path variables?\n",
    "Download Python from python.org, install it, and during installation, check the box for \"Add Python to PATH\". You can also manually add it to the environment variables."
   ]
  },
  {
   "cell_type": "code",
   "execution_count": null,
   "id": "6246eb53-b4a1-4225-a010-b838b2a262ac",
   "metadata": {},
   "outputs": [],
   "source": [
    "Is indentation required in Python?\n",
    "Yes, indentation is mandatory in Python to define the structure and flow of the code."
   ]
  }
 ],
 "metadata": {
  "kernelspec": {
   "display_name": "Python 3 (ipykernel)",
   "language": "python",
   "name": "python3"
  },
  "language_info": {
   "codemirror_mode": {
    "name": "ipython",
    "version": 3
   },
   "file_extension": ".py",
   "mimetype": "text/x-python",
   "name": "python",
   "nbconvert_exporter": "python",
   "pygments_lexer": "ipython3",
   "version": "3.10.8"
  }
 },
 "nbformat": 4,
 "nbformat_minor": 5
}
