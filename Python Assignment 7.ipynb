{
 "cells": [
  {
   "cell_type": "code",
   "execution_count": null,
   "id": "1d2003f5-7293-4355-bf5a-40ea103abc09",
   "metadata": {},
   "outputs": [],
   "source": [
    "Q1. Password Validation Function"
   ]
  },
  {
   "cell_type": "code",
   "execution_count": null,
   "id": "43e1ee9b-ce27-41f0-91fa-c3760f0487a3",
   "metadata": {},
   "outputs": [],
   "source": [
    "import re\n",
    "\n",
    "def check_password(password):\n",
    "    # Check length\n",
    "    if len(password) != 10:\n",
    "        return \"Invalid Password\"\n",
    "\n",
    "    # Check for at least 2 uppercase, 2 lowercase, 1 number, and 3 special characters\n",
    "    uppercase = re.findall(r'[A-Z]', password)\n",
    "    lowercase = re.findall(r'[a-z]', password)\n",
    "    numbers = re.findall(r'[0-9]', password)\n",
    "    special_chars = re.findall(r'[!@#$%^&*(),.?\":{}|<>]', password)\n",
    "\n",
    "    if len(uppercase) >= 2 and len(lowercase) >= 2 and len(numbers) >= 1 and len(special_chars) >= 3:\n",
    "        return \"Valid Password\"\n",
    "    else:\n",
    "        return \"Invalid Password\"\n",
    "\n",
    "# Example\n",
    "password_input = \"Abc!X12@34\"\n",
    "print(check_password(password_input))  # Output: Valid Password or Invalid Password\n"
   ]
  },
  {
   "cell_type": "code",
   "execution_count": null,
   "id": "c95dd860-b242-4239-981d-855f178ba9dd",
   "metadata": {},
   "outputs": [],
   "source": [
    "Q2. Solving Problems Using Lambda, Filter, Map, and List Comprehension\n",
    "1. Check if the string starts with a particular letter:\n",
    "    \n",
    "starts_with = lambda s, letter: s.startswith(letter)\n",
    "\n",
    "# Example usage:\n",
    "print(starts_with(\"Python\", \"P\"))  # Output: True\n",
    "    "
   ]
  },
  {
   "cell_type": "code",
   "execution_count": null,
   "id": "ed314681-a516-4135-9e4d-bc4a58f3a34b",
   "metadata": {},
   "outputs": [],
   "source": [
    "2. Check if the string is numeric:\n",
    "    \n",
    "is_numeric = lambda s: s.isdigit()\n",
    "\n",
    "# Example usage:\n",
    "print(is_numeric(\"12345\"))  # Output: True\n",
    "print(is_numeric(\"Python\"))  # Output: False\n"
   ]
  },
  {
   "cell_type": "code",
   "execution_count": null,
   "id": "a698a33f-10ed-4e8b-95f9-a4be38287a55",
   "metadata": {},
   "outputs": [],
   "source": [
    "3. Sort a list of tuples with fruit names and their quantity:\n",
    "    \n",
    "fruits = [(\"mango\", 99), (\"orange\", 80), (\"grapes\", 1000)]\n",
    "sorted_fruits = sorted(fruits, key=lambda x: x[1])\n",
    "\n",
    "# Example usage:\n",
    "print(sorted_fruits)  # Output: [('orange', 80), ('mango', 99), ('grapes', 1000)]"
   ]
  },
  {
   "cell_type": "code",
   "execution_count": null,
   "id": "9b25a280-74e6-4da0-8b28-6ce06bf1bcc4",
   "metadata": {},
   "outputs": [],
   "source": [
    "4. Find the squares of numbers from 1 to 10:\n",
    "squares = list(map(lambda x: x**2, range(1, 11)))\n",
    "\n",
    "# Example usage:\n",
    "print(squares)  # Output: [1, 4, 9, 16, 25, 36, 49, 64, 81, 100]"
   ]
  },
  {
   "cell_type": "code",
   "execution_count": null,
   "id": "bf38c271-f78a-4abc-984c-05257684aa5c",
   "metadata": {},
   "outputs": [],
   "source": [
    "5. Find the cube root of numbers from 1 to 10:\n",
    "    \n",
    "import math\n",
    "cube_roots = list(map(lambda x: round(x ** (1/3), 2), range(1, 11)))\n",
    "\n",
    "# Example usage:\n",
    "print(cube_roots)  # Output: [1.0, 1.26, 1.44, 1.59, 1.71, 1.82, 1.91, 2.0, 2.08, 2.15]\n",
    "    "
   ]
  },
  {
   "cell_type": "code",
   "execution_count": null,
   "id": "06ee30c3-8292-4839-bfda-0a99998e4e0e",
   "metadata": {},
   "outputs": [],
   "source": [
    "6. Check if a given number is even:\n",
    "\n",
    "is_even = lambda x: x % 2 == 0\n",
    "\n",
    "# Example usage:\n",
    "print(is_even(4))  # Output: True\n",
    "print(is_even(7))  # Output: False\n",
    "    "
   ]
  },
  {
   "cell_type": "code",
   "execution_count": null,
   "id": "2177d5d7-79ea-46ed-8dd4-a15b23ab4f21",
   "metadata": {},
   "outputs": [],
   "source": [
    "7. Filter odd numbers from the given list:\n",
    "    \n",
    "numbers = [1, 2, 3, 4, 5, 6, 7, 8, 9, 10]\n",
    "odd_numbers = list(filter(lambda x: x % 2 != 0, numbers))\n",
    "\n",
    "# Example usage:\n",
    "print(odd_numbers)  # Output: [1, 3, 5, 7, 9]\n",
    "    "
   ]
  },
  {
   "cell_type": "code",
   "execution_count": null,
   "id": "f592b9e2-cd11-4d2b-9160-73ce0bade6d2",
   "metadata": {},
   "outputs": [],
   "source": [
    "8. Sort a list of integers into positive and negative integers lists:\n",
    "    \n",
    "    \n",
    "numbers = [1, 2, 3, 4, 5, 6, -1, -2, -3, -4, -5, 0]\n",
    "\n",
    "positive_numbers = list(filter(lambda x: x > 0, numbers))\n",
    "negative_numbers = list(filter(lambda x: x < 0, numbers))\n",
    "\n",
    "# Example usage:\n",
    "print(\"Positive numbers:\", positive_numbers)  # Output: [1, 2, 3, 4, 5, 6]\n",
    "print(\"Negative numbers:\", negative_numbers)  # Output: [-1, -2, -3, -4, -5]\n",
    "    "
   ]
  },
  {
   "cell_type": "code",
   "execution_count": null,
   "id": "87813769-2cd0-44f6-94e3-114badb0f799",
   "metadata": {},
   "outputs": [],
   "source": []
  }
 ],
 "metadata": {
  "kernelspec": {
   "display_name": "Python 3 (ipykernel)",
   "language": "python",
   "name": "python3"
  },
  "language_info": {
   "codemirror_mode": {
    "name": "ipython",
    "version": 3
   },
   "file_extension": ".py",
   "mimetype": "text/x-python",
   "name": "python",
   "nbconvert_exporter": "python",
   "pygments_lexer": "ipython3",
   "version": "3.10.8"
  }
 },
 "nbformat": 4,
 "nbformat_minor": 5
}
