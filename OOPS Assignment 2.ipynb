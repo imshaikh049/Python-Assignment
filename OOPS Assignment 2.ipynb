{
 "cells": [
  {
   "cell_type": "code",
   "execution_count": null,
   "id": "f6634167-be95-49eb-b89a-ced462d1777f",
   "metadata": {},
   "outputs": [],
   "source": [
    "Q1. Create a vehicle class with an __init__ method having instance variables as name_of_vehicle, max_speed, and average_of_vehicle.\n",
    "\n",
    "class Vehicle:\n",
    "    def __init__(self, name_of_vehicle, max_speed, average_of_vehicle):\n",
    "        self.name_of_vehicle = name_of_vehicle\n",
    "        self.max_speed = max_speed\n",
    "        self.average_of_vehicle = average_of_vehicle\n",
    "\n",
    "# Example usage:\n",
    "vehicle = Vehicle(\"Truck\", 120, 15)\n",
    "print(vehicle.name_of_vehicle, vehicle.max_speed, vehicle.average_of_vehicle)"
   ]
  },
  {
   "cell_type": "code",
   "execution_count": null,
   "id": "539646dd-3c0b-4ddb-b643-1606c7f5fe8f",
   "metadata": {},
   "outputs": [],
   "source": [
    "Q2. Create a child class Car from the Vehicle class created in Q1, which will inherit the Vehicle class. Create a method named seating_capacity which takes capacity as an argument and returns the name of the vehicle and its seating capacity.\n",
    "\n",
    "class Car(Vehicle):\n",
    "    def seating_capacity(self, capacity):\n",
    "        return f\"The seating capacity of {self.name_of_vehicle} is {capacity}.\"\n",
    "\n",
    "# Example usage:\n",
    "car = Car(\"Sedan\", 180, 12)\n",
    "print(car.seating_capacity(5))"
   ]
  },
  {
   "cell_type": "code",
   "execution_count": null,
   "id": "3b0abe3c-e824-468a-aa15-5148e6f76a06",
   "metadata": {},
   "outputs": [],
   "source": [
    "Q3. What is multiple inheritance? Write a Python code to demonstrate multiple inheritance.\n",
    "Multiple inheritance occurs when a class inherits from more than one base class.\n",
    "\n",
    "\n",
    "# Base class 1\n",
    "class Engine:\n",
    "    def __init__(self, engine_type):\n",
    "        self.engine_type = engine_type\n",
    "\n",
    "# Base class 2\n",
    "class Body:\n",
    "    def __init__(self, body_type):\n",
    "        self.body_type = body_type\n",
    "\n",
    "# Derived class inheriting from both Engine and Body (Multiple Inheritance)\n",
    "class Car(Engine, Body):\n",
    "    def __init__(self, engine_type, body_type, name_of_vehicle):\n",
    "        Engine.__init__(self, engine_type)\n",
    "        Body.__init__(self, body_type)\n",
    "        self.name_of_vehicle = name_of_vehicle\n",
    "    \n",
    "    def display_info(self):\n",
    "        return f\"{self.name_of_vehicle} has a {self.engine_type} engine and a {self.body_type} body.\"\n",
    "\n",
    "# Example usage:\n",
    "car = Car(\"V8\", \"SUV\", \"Jeep\")\n",
    "print(car.display_info())"
   ]
  },
  {
   "cell_type": "code",
   "execution_count": null,
   "id": "ab38f475-f312-4658-967f-2b9003327be7",
   "metadata": {},
   "outputs": [],
   "source": [
    "Q4. What are getter and setter in Python? Create a class and create a getter and a setter method in this class.\n",
    "Getters and Setters are used to access and update private variables.\n",
    "\n",
    "\n",
    "class Person:\n",
    "    def __init__(self, name, age):\n",
    "        self._name = name\n",
    "        self._age = age  # Private variable\n",
    "\n",
    "    # Getter for age\n",
    "    @property\n",
    "    def age(self):\n",
    "        return self._age\n",
    "\n",
    "    # Setter for age\n",
    "    @age.setter\n",
    "    def age(self, age):\n",
    "        if age < 0:\n",
    "            raise ValueError(\"Age can't be negative!\")\n",
    "        self._age = age\n",
    "\n",
    "# Example usage:\n",
    "person = Person(\"John\", 25)\n",
    "print(person.age)  # Using getter\n",
    "\n",
    "person.age = 30  # Using setter\n",
    "print(person.age)\n",
    "\n",
    "# person.age = -5  # This will raise a ValueError"
   ]
  },
  {
   "cell_type": "code",
   "execution_count": null,
   "id": "497e75fc-1710-4694-b82b-4f4769fac5f7",
   "metadata": {},
   "outputs": [],
   "source": [
    "Q5. What is method overriding in Python? Write a Python code to demonstrate method overriding.\n",
    "Method Overriding occurs when a subclass provides a specific implementation of a method that is already defined in its superclass.\n",
    "\n",
    "\n",
    "class Animal:\n",
    "    def sound(self):\n",
    "        return \"Some generic animal sound\"\n",
    "\n",
    "# Subclass overriding the method\n",
    "class Dog(Animal):\n",
    "    def sound(self):\n",
    "        return \"Bark\"\n",
    "\n",
    "# Example usage:\n",
    "animal = Animal()\n",
    "dog = Dog()\n",
    "\n",
    "print(animal.sound())  # Output: Some generic animal sound\n",
    "print(dog.sound())     # Output: Bark (overridden method)"
   ]
  },
  {
   "cell_type": "code",
   "execution_count": null,
   "id": "b21f93b8-d614-4b56-bc06-d0f9ea05e045",
   "metadata": {},
   "outputs": [],
   "source": []
  }
 ],
 "metadata": {
  "kernelspec": {
   "display_name": "Python 3 (ipykernel)",
   "language": "python",
   "name": "python3"
  },
  "language_info": {
   "codemirror_mode": {
    "name": "ipython",
    "version": 3
   },
   "file_extension": ".py",
   "mimetype": "text/x-python",
   "name": "python",
   "nbconvert_exporter": "python",
   "pygments_lexer": "ipython3",
   "version": "3.10.8"
  }
 },
 "nbformat": 4,
 "nbformat_minor": 5
}
