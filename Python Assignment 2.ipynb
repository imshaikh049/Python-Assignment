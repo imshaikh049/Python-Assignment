{
 "cells": [
  {
   "cell_type": "markdown",
   "id": "bdcde51d-4dd8-42b7-a4f8-8b0f8fd64a5a",
   "metadata": {},
   "source": [
    "## Q1. Which keyword is used to create a function? Create a function to return a list of odd numbers in the range of 1 to 25."
   ]
  },
  {
   "cell_type": "code",
   "execution_count": null,
   "id": "68102116-3644-457c-9cd3-e27b2936d8bb",
   "metadata": {},
   "outputs": [],
   "source": [
    "The def keyword is used to create a function in Python.\n",
    "\n",
    "Example:\n",
    "\n",
    "def odd_numbers():\n",
    "    return [num for num in range(1, 26) if num % 2 != 0]\n",
    "\n",
    "# Calling the function\n",
    "print(odd_numbers())"
   ]
  },
  {
   "cell_type": "markdown",
   "id": "c9ef13e0-2465-45e8-b30e-07b7430c112a",
   "metadata": {},
   "source": [
    "## Q2. Why *args and **kwargs are used in some functions? Create a function each for *args and **kwargs to demonstrate their use."
   ]
  },
  {
   "cell_type": "code",
   "execution_count": null,
   "id": "ff7951d8-8ff2-4361-a266-f7c96cf542d3",
   "metadata": {},
   "outputs": [],
   "source": [
    "*args is used to pass a variable number of non-keyword arguments to a function.\n",
    "**kwargs is used to pass a variable number of keyword arguments to a function.\n",
    "\n",
    "Example for *args:\n",
    "\n",
    "def sum_numbers(*args):\n",
    "    return sum(args)\n",
    "\n",
    "# Calling the function\n",
    "print(sum_numbers(1, 2, 3, 4))  # Output: 10\n",
    "Example for **kwargs:\n",
    "\n",
    "\n",
    "def print_info(**kwargs):\n",
    "    for key, value in kwargs.items():\n",
    "        print(f\"{key}: {value}\")\n",
    "\n",
    "# Calling the function\n",
    "print_info(name=\"John\", age=25, city=\"New York\")"
   ]
  },
  {
   "cell_type": "markdown",
   "id": "18607121-79bd-4bb1-865e-ad54a85cdc99",
   "metadata": {},
   "source": [
    "## Q3. What is an iterator in Python? Name the method used to initialise the iterator object and the method used for iteration. Use these methods to print the first five elements of the given list [2, 4, 6, 8, 10, 12, 14, 16, 18, 20]."
   ]
  },
  {
   "cell_type": "code",
   "execution_count": null,
   "id": "e29f6d51-acfa-4cb9-89b8-411e03613ffd",
   "metadata": {},
   "outputs": [],
   "source": [
    "Iterator: An iterator is an object in Python that allows you to traverse through all the elements of a collection (like a list) one by one.\n",
    "Method used to initialise the iterator: iter()\n",
    "Method used for iteration: next()\n",
    "Example:\n",
    "\n",
    "\n",
    "my_list = [2, 4, 6, 8, 10, 12, 14, 16, 18, 20]\n",
    "iterator = iter(my_list)\n",
    "\n",
    "# Printing first five elements using the next() method\n",
    "for _ in range(5):\n",
    "    print(next(iterator))"
   ]
  },
  {
   "cell_type": "markdown",
   "id": "a03205d9-07fa-4c4f-a3a7-37c035f5f944",
   "metadata": {},
   "source": [
    "## Q4. What is a generator function in Python? Why is the yield keyword used? Give an example of a generator function."
   ]
  },
  {
   "cell_type": "code",
   "execution_count": null,
   "id": "d7de8cfb-3c7b-4839-a897-96633cc8b9c3",
   "metadata": {},
   "outputs": [],
   "source": [
    "A generator function is a special type of function in Python that returns an iterator object known as a generator. It allows you to iterate over a sequence of values lazily, i.e., one value at a time, instead of storing them all in memory.\n",
    "The yield keyword is used to produce a value and pause the function’s execution until the next value is requested.\n",
    "Example:\n",
    "\n",
    "\n",
    "def countdown(n):\n",
    "    while n > 0:\n",
    "        yield n\n",
    "        n -= 1\n",
    "\n",
    "# Using the generator\n",
    "for value in countdown(5):\n",
    "    print(value)"
   ]
  },
  {
   "cell_type": "markdown",
   "id": "042a64f8-83c4-4d68-9c93-11f66d2e5742",
   "metadata": {},
   "source": [
    "## Q5. Create a generator function for prime numbers less than 1000. Use the next() method to print the first 20 prime numbers."
   ]
  },
  {
   "cell_type": "code",
   "execution_count": null,
   "id": "b3c468c5-3032-4125-a2d7-b45a416efcd8",
   "metadata": {},
   "outputs": [],
   "source": [
    "Example:\n",
    "\n",
    "\n",
    "def prime_numbers():\n",
    "    for num in range(2, 1000):\n",
    "        for i in range(2, int(num ** 0.5) + 1):\n",
    "            if num % i == 0:\n",
    "                break\n",
    "        else:\n",
    "            yield num\n",
    "\n",
    "# Using the generator to get the first 20 prime numbers\n",
    "prime_gen = prime_numbers()\n",
    "for _ in range(20):\n",
    "    print(next(prime_gen))"
   ]
  },
  {
   "cell_type": "markdown",
   "id": "42dc4975-1e68-4eec-adee-b477afe3cc62",
   "metadata": {},
   "source": [
    "## Q6. Write a Python program to print the first 10 Fibonacci numbers using a while loop."
   ]
  },
  {
   "cell_type": "code",
   "execution_count": null,
   "id": "59603000-c7ce-4d01-bc0d-34bef48a515f",
   "metadata": {},
   "outputs": [],
   "source": [
    "Example:\n",
    "\n",
    "\n",
    "def fibonacci():\n",
    "    a, b = 0, 1\n",
    "    count = 0\n",
    "    while count < 10:\n",
    "        print(a)\n",
    "        a, b = b, a + b\n",
    "        count += 1\n",
    "\n",
    "# Calling the function\n",
    "fibonacci()"
   ]
  },
  {
   "cell_type": "code",
   "execution_count": null,
   "id": "2c3a6e13-57ac-483d-8d3f-ee34d740d5cc",
   "metadata": {},
   "outputs": [],
   "source": []
  },
  {
   "cell_type": "code",
   "execution_count": null,
   "id": "ec97736a-5169-4fa0-aa42-b7cd0131ef63",
   "metadata": {},
   "outputs": [],
   "source": [
    "\n",
    "Example:\n",
    "\n",
    "\n",
    "string = \"pwskills\"\n",
    "output = [char for char in string if char in \"pwskills\"]\n",
    "print(output)  # Output: ['p', 'w', 's', 'k', 'i', 'l', 'l', 's']\n",
    "Q8. Write a Python program to check whether a given number is Palindrome or not using a while loop.\n",
    "Example:\n",
    "\n",
    "\n",
    "def is_palindrome(number):\n",
    "    original = number\n",
    "    reverse = 0\n",
    "    while number > 0:\n",
    "        remainder = number % 10\n",
    "        reverse = (reverse * 10) + remainder\n",
    "        number = number // 10\n",
    "    return original == reverse\n",
    "\n",
    "# Test the function\n",
    "num = 121\n",
    "if is_palindrome(num):\n",
    "    print(f\"{num} is a palindrome\")\n",
    "else:\n",
    "    print(f\"{num} is not a palindrome\")\n",
    "Q9. Write a code to print odd numbers from 1 to 100 using list comprehension.\n",
    "Example:\n",
    "\n",
    "\n",
    "# Creating a list of numbers from 1 to 100\n",
    "numbers = [num for num in range(1, 101)]\n",
    "\n",
    "# Using list comprehension to filter out odd numbers\n",
    "odd_numbers = [num for num in numbers if num % 2 != 0]\n",
    "print(odd_numbers)"
   ]
  }
 ],
 "metadata": {
  "kernelspec": {
   "display_name": "Python 3 (ipykernel)",
   "language": "python",
   "name": "python3"
  },
  "language_info": {
   "codemirror_mode": {
    "name": "ipython",
    "version": 3
   },
   "file_extension": ".py",
   "mimetype": "text/x-python",
   "name": "python",
   "nbconvert_exporter": "python",
   "pygments_lexer": "ipython3",
   "version": "3.10.8"
  }
 },
 "nbformat": 4,
 "nbformat_minor": 5
}
