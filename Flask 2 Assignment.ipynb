{
 "cells": [
  {
   "cell_type": "code",
   "execution_count": null,
   "id": "32bd6f5c-b929-46b5-9a63-f6b14ee8be73",
   "metadata": {},
   "outputs": [],
   "source": [
    "Q1. Explain GET and POST methods.\n",
    "GET and POST are two common HTTP methods used in web communication:\n",
    "\n",
    "GET Method:\n",
    "Used to request data from a server.\n",
    "Parameters are appended to the URL in the form of query strings, which are visible in the browser.\n",
    "It is used for fetching or retrieving data.\n",
    "Data sent through the URL is limited by the URL length.\n",
    "Example: Searching for a term on a website.\n",
    "POST Method:\n",
    "Used to send data to a server to create/update a resource.\n",
    "Data is sent in the body of the request, not visible in the URL.\n",
    "It is used for actions like submitting forms or uploading files.\n",
    "There is no limitation on the amount of data that can be sent.\n",
    "Example: Submitting a form with user data."
   ]
  },
  {
   "cell_type": "code",
   "execution_count": null,
   "id": "1b2938c7-5d5d-4b0e-bd8d-076655df644b",
   "metadata": {},
   "outputs": [],
   "source": [
    "Q2. Why is request used in Flask?\n",
    "In Flask, the request object is used to access data sent by the client to the server. It allows the server to retrieve information from the HTTP request, such as form data, query parameters, headers, and files. It supports both GET and POST requests.\n",
    "\n",
    "Example usage:\n",
    "    \n",
    "from flask import Flask, request\n",
    "\n",
    "app = Flask(__name__)\n",
    "\n",
    "@app.route('/login', methods=['GET', 'POST'])\n",
    "def login():\n",
    "    if request.method == 'POST':\n",
    "        username = request.form['username']\n",
    "        return f'Hello, {username}'\n",
    "    return 'Please log in'\n"
   ]
  },
  {
   "cell_type": "code",
   "execution_count": null,
   "id": "1b133e8e-6b48-44fc-b852-b331670c56e0",
   "metadata": {},
   "outputs": [],
   "source": [
    "Q3. Why is redirect() used in Flask?\n",
    "In Flask, the redirect() function is used to redirect the user to a different URL. This is helpful when you want to navigate users to another page after performing certain operations like form submissions, authentication, or validation.\n",
    "\n",
    "Example:\n",
    "from flask import Flask, redirect, url_for\n",
    "\n",
    "app = Flask(__name__)\n",
    "\n",
    "@app.route('/')\n",
    "def home():\n",
    "    return 'Welcome to the homepage!'\n",
    "\n",
    "@app.route('/login')\n",
    "def login():\n",
    "    return redirect(url_for('home'))\n"
   ]
  },
  {
   "cell_type": "code",
   "execution_count": null,
   "id": "3a6708ab-ed37-4f3a-9313-e5b33ac2baf1",
   "metadata": {},
   "outputs": [],
   "source": [
    "Q4. What are templates in Flask? Why is the render_template() function used?\n",
    "Templates in Flask are HTML files used to dynamically generate the web pages of an application. They allow for content rendering with placeholders (e.g., {{ variable }}) that are replaced with real data when the page is rendered.\n",
    "\n",
    "render_template() is a Flask function used to render the template and return it as the response. It passes Python variables and data to the HTML files, making the content dynamic.\n",
    "\n",
    "Example:\n",
    "    \n",
    "from flask import Flask, render_template\n",
    "\n",
    "app = Flask(__name__)\n",
    "\n",
    "@app.route('/')\n",
    "def index():\n",
    "    return render_template('index.html', name=\"John\")\n",
    "\n",
    "In this case, index.html can have {{ name }} to display \"John.\"\n"
   ]
  },
  {
   "cell_type": "code",
   "execution_count": null,
   "id": "d5be88ad-4750-41b9-a3b9-a7e136260856",
   "metadata": {},
   "outputs": [],
   "source": [
    "Q5. Create a simple API and test it with Postman\n",
    "Here is a basic Flask API:\n",
    "\n",
    "from flask import Flask, jsonify, request\n",
    "\n",
    "app = Flask(__name__)\n",
    "\n",
    "@app.route('/api/greet', methods=['GET', 'POST'])\n",
    "def greet():\n",
    "    if request.method == 'POST':\n",
    "        data = request.json\n",
    "        name = data.get('name', 'World')\n",
    "        return jsonify(message=f'Hello, {name}!')\n",
    "    return jsonify(message='Hello, World!')\n",
    "\n",
    "if __name__ == '__main__':\n",
    "    app.run(debug=True)\n",
    "    "
   ]
  },
  {
   "cell_type": "code",
   "execution_count": null,
   "id": "dc97a9d8-b9dc-405d-ab69-5c92f523b3ff",
   "metadata": {},
   "outputs": [],
   "source": []
  }
 ],
 "metadata": {
  "kernelspec": {
   "display_name": "Python 3 (ipykernel)",
   "language": "python",
   "name": "python3"
  },
  "language_info": {
   "codemirror_mode": {
    "name": "ipython",
    "version": 3
   },
   "file_extension": ".py",
   "mimetype": "text/x-python",
   "name": "python",
   "nbconvert_exporter": "python",
   "pygments_lexer": "ipython3",
   "version": "3.10.8"
  }
 },
 "nbformat": 4,
 "nbformat_minor": 5
}
