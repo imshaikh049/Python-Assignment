{
 "cells": [
  {
   "cell_type": "code",
   "execution_count": null,
   "id": "5aca9788-7372-4018-8ced-85c9803a922b",
   "metadata": {},
   "outputs": [],
   "source": [
    "Q1. Create a function to return the product of all numbers after flattening a list:"
   ]
  },
  {
   "cell_type": "code",
   "execution_count": 1,
   "id": "f1aad9d6-77b3-4bd6-a7a7-893d0bc193a7",
   "metadata": {},
   "outputs": [
    {
     "name": "stdout",
     "output_type": "stream",
     "text": [
      "Product of all numbers in the list: 0\n"
     ]
    }
   ],
   "source": [
    "from functools import reduce\n",
    "import operator\n",
    "\n",
    "def flatten_and_multiply(lst):\n",
    "    flat_list = []\n",
    "    \n",
    "    # Helper function to recursively flatten the list\n",
    "    def flatten(item):\n",
    "        if isinstance(item, (list, tuple, set)):\n",
    "            for subitem in item:\n",
    "                flatten(subitem)\n",
    "        elif isinstance(item, dict):\n",
    "            for key, value in item.items():\n",
    "                if isinstance(key, (int, float)):  # Extract numeric keys\n",
    "                    flat_list.append(key)\n",
    "                flatten(value)  # Extract numeric values\n",
    "        elif isinstance(item, (int, float)):  # If it's a numeric value\n",
    "            flat_list.append(item)\n",
    "    \n",
    "    # Call flatten on the original list\n",
    "    flatten(lst)\n",
    "    \n",
    "    # Calculate the product of all the numeric values\n",
    "    product = reduce(operator.mul, flat_list, 1)\n",
    "    \n",
    "    return product\n",
    "\n",
    "# The given list\n",
    "list1 = [1, 2, 3, 4, [44, 55, 66, True], False, (34, 56, 78, 89, 34), \n",
    "         {1, 2, 3, 3, 2, 1}, {1: 34, \"key2\": [55, 67, 78, 89], 4: (45, 22, 61, 34)}, \n",
    "         [56, 'data science'], 'Machine Learning']\n",
    "\n",
    "# Call the function and print the product\n",
    "result = flatten_and_multiply(list1)\n",
    "print(\"Product of all numbers in the list:\", result)\n"
   ]
  },
  {
   "cell_type": "code",
   "execution_count": null,
   "id": "2f563c4e-98cc-4ddb-a1eb-84d7dfd5a6a2",
   "metadata": {},
   "outputs": [],
   "source": [
    "Q2. Python Program for Encrypting a Message:"
   ]
  },
  {
   "cell_type": "code",
   "execution_count": 2,
   "id": "89dbd51f-17e7-450f-8716-3213bf6c22de",
   "metadata": {},
   "outputs": [
    {
     "name": "stdout",
     "output_type": "stream",
     "text": [
      "Encrypted Sentence: r$dzmg$gl$yvxlnv$z$wzgz$hxrvmgrhg.\n"
     ]
    }
   ],
   "source": [
    "def encrypt_message(message):\n",
    "    # Define the encryption rules for alphabets\n",
    "    alphabet = 'abcdefghijklmnopqrstuvwxyz'\n",
    "    reverse_alphabet = alphabet[::-1]\n",
    "    encryption_dict = {alphabet[i]: reverse_alphabet[i] for i in range(26)}\n",
    "    \n",
    "    # Initialize the encrypted message\n",
    "    encrypted_message = ''\n",
    "    \n",
    "    # Iterate over each character in the input message\n",
    "    for char in message:\n",
    "        if char.isalpha():\n",
    "            # Convert the character to lowercase and encrypt it\n",
    "            encrypted_message += encryption_dict[char.lower()]\n",
    "        elif char == ' ':\n",
    "            # Replace space with dollar sign\n",
    "            encrypted_message += '$'\n",
    "        else:\n",
    "            # Keep punctuation unchanged\n",
    "            encrypted_message += char\n",
    "    \n",
    "    return encrypted_message\n",
    "\n",
    "# Input Sentence\n",
    "input_sentence = \"I want to become a Data Scientist.\"\n",
    "\n",
    "# Encrypt the input sentence\n",
    "encrypted_sentence = encrypt_message(input_sentence)\n",
    "print(\"Encrypted Sentence:\", encrypted_sentence)\n"
   ]
  },
  {
   "cell_type": "code",
   "execution_count": null,
   "id": "b28b2a6e-c3c8-4d68-9e55-e3df3cfeebd2",
   "metadata": {},
   "outputs": [],
   "source": []
  },
  {
   "cell_type": "code",
   "execution_count": null,
   "id": "3e906c76-3641-4f19-9ae0-827aaab5e288",
   "metadata": {},
   "outputs": [],
   "source": []
  }
 ],
 "metadata": {
  "kernelspec": {
   "display_name": "Python 3 (ipykernel)",
   "language": "python",
   "name": "python3"
  },
  "language_info": {
   "codemirror_mode": {
    "name": "ipython",
    "version": 3
   },
   "file_extension": ".py",
   "mimetype": "text/x-python",
   "name": "python",
   "nbconvert_exporter": "python",
   "pygments_lexer": "ipython3",
   "version": "3.10.8"
  }
 },
 "nbformat": 4,
 "nbformat_minor": 5
}
