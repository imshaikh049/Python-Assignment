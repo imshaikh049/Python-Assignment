{
 "cells": [
  {
   "cell_type": "markdown",
   "id": "8e2f15d2-619f-477e-9880-a11e6524654b",
   "metadata": {},
   "source": [
    "## Q1. Sort a list of tuples based on integer value using a lambda function"
   ]
  },
  {
   "cell_type": "code",
   "execution_count": 2,
   "id": "33b13b7f-56ef-40af-b734-bc8706064a85",
   "metadata": {},
   "outputs": [
    {
     "name": "stdout",
     "output_type": "stream",
     "text": [
      "[('Virat Kohli', 24936), ('Jack Kallis', 25534), ('Ricky Ponting', 27483), ('Sachin Tendulkar', 34357)]\n"
     ]
    }
   ],
   "source": [
    "# Here's a Python program to sort the list of tuples by the integer value in each tuple:\n",
    "\n",
    "\n",
    "# List of tuples\n",
    "data = [('Sachin Tendulkar', 34357), ('Ricky Ponting', 27483), ('Jack Kallis', 25534), ('Virat Kohli', 24936)]\n",
    "\n",
    "# Sorting the list of tuples based on the integer value\n",
    "sorted_data = sorted(data, key=lambda x: x[1])\n",
    "\n",
    "# Print the sorted list\n",
    "print(sorted_data)"
   ]
  },
  {
   "cell_type": "markdown",
   "id": "69d8be41-03ac-4bdc-86be-51e7c8b3ba6e",
   "metadata": {},
   "source": [
    "## Q2. Find the squares of all numbers in a list using lambda and map functions."
   ]
  },
  {
   "cell_type": "code",
   "execution_count": 1,
   "id": "de2d9dba-a0b6-4b40-9f9d-233bbfa07e24",
   "metadata": {},
   "outputs": [
    {
     "name": "stdout",
     "output_type": "stream",
     "text": [
      "[1, 4, 9, 16, 25, 36, 49, 64, 81, 100]\n"
     ]
    }
   ],
   "source": [
    "# Here's how you can find the squares of numbers in a list:\n",
    "\n",
    "\n",
    "# List of integers\n",
    "numbers = [1, 2, 3, 4, 5, 6, 7, 8, 9, 10]\n",
    "\n",
    "# Using map and lambda to find the squares\n",
    "squares = list(map(lambda x: x**2, numbers))\n",
    "\n",
    "# Print the list of squares\n",
    "print(squares)"
   ]
  },
  {
   "cell_type": "markdown",
   "id": "22fb9227-ac4a-4afe-a148-ca3c6fdb51c2",
   "metadata": {},
   "source": [
    "## Q3. Convert a list of integers into a tuple of strings using map and lambda functions"
   ]
  },
  {
   "cell_type": "code",
   "execution_count": 3,
   "id": "227d0ba1-a2ea-4be3-8a8d-7f424b79a6c6",
   "metadata": {},
   "outputs": [
    {
     "name": "stdout",
     "output_type": "stream",
     "text": [
      "('1', '2', '3', '4', '5', '6', '7', '8', '9', '10')\n"
     ]
    }
   ],
   "source": [
    "# Here's how you can convert each integer in the list to a string and then create a tuple:\n",
    "\n",
    "# List of integers\n",
    "numbers = [1, 2, 3, 4, 5, 6, 7, 8, 9, 10]\n",
    "\n",
    "# Using map and lambda to convert integers to strings\n",
    "string_tuple = tuple(map(lambda x: str(x), numbers))\n",
    "\n",
    "# Print the tuple of strings\n",
    "print(string_tuple)"
   ]
  },
  {
   "cell_type": "markdown",
   "id": "ce23797f-6813-40ca-8189-d297e69f960b",
   "metadata": {},
   "source": [
    "## Q4. Compute the product of a list containing numbers from 1 to 25 using reduce function"
   ]
  },
  {
   "cell_type": "code",
   "execution_count": 4,
   "id": "c9d0a266-d371-4741-8c4f-b798fd46cbd0",
   "metadata": {},
   "outputs": [
    {
     "name": "stdout",
     "output_type": "stream",
     "text": [
      "15511210043330985984000000\n"
     ]
    }
   ],
   "source": [
    "# For this, you'll need the reduce function from the functools module:\n",
    "\n",
    "\n",
    "from functools import reduce\n",
    "\n",
    "# List of numbers from 1 to 25\n",
    "numbers = list(range(1, 26))\n",
    "\n",
    "# Using reduce and lambda to compute the product\n",
    "product = reduce(lambda x, y: x * y, numbers)\n",
    "\n",
    "# Print the product\n",
    "print(product)\n"
   ]
  },
  {
   "cell_type": "markdown",
   "id": "14cc51c1-feff-40a1-b7a8-b218468fa0d2",
   "metadata": {},
   "source": [
    "# Q5. Filter numbers divisible by 2 and 3 using the filter function."
   ]
  },
  {
   "cell_type": "code",
   "execution_count": 5,
   "id": "913117d1-9c08-48fb-b2f4-ce89a6cabd35",
   "metadata": {},
   "outputs": [
    {
     "name": "stdout",
     "output_type": "stream",
     "text": [
      "[6, 60, 90, 120]\n"
     ]
    }
   ],
   "source": [
    "# Here's how you can filter the numbers divisible by both 2 and 3:\n",
    "\n",
    "\n",
    "# List of integers\n",
    "numbers = [2, 3, 6, 9, 27, 60, 90, 120, 55, 46]\n",
    "\n",
    "# Using filter and lambda to find numbers divisible by 2 and 3\n",
    "filtered_numbers = list(filter(lambda x: x % 2 == 0 and x % 3 == 0, numbers))\n",
    "\n",
    "# Print the filtered numbers\n",
    "print(filtered_numbers)"
   ]
  },
  {
   "cell_type": "markdown",
   "id": "c75add19-61a0-45a6-bb82-0ef4103efc4a",
   "metadata": {},
   "source": [
    "## Q6. Find palindromes in a list of strings using lambda and filter function."
   ]
  },
  {
   "cell_type": "code",
   "execution_count": 6,
   "id": "e368dc75-125f-4799-962f-0d09f180eb81",
   "metadata": {},
   "outputs": [
    {
     "name": "stdout",
     "output_type": "stream",
     "text": [
      "['php', 'aba', 'radar', 'level']\n"
     ]
    }
   ],
   "source": [
    "# Here's how you can filter palindromes from a list of strings:\n",
    "\n",
    "\n",
    "# List of strings\n",
    "strings = ['python', 'php', 'aba', 'radar', 'level']\n",
    "\n",
    "# Using filter and lambda to find palindromes\n",
    "palindromes = list(filter(lambda s: s == s[::-1], strings))\n",
    "\n",
    "# Print the list of palindromes\n",
    "print(palindromes)"
   ]
  },
  {
   "cell_type": "code",
   "execution_count": null,
   "id": "01521fae-3c43-45fb-b504-a504806ef56e",
   "metadata": {},
   "outputs": [],
   "source": []
  }
 ],
 "metadata": {
  "kernelspec": {
   "display_name": "Python 3 (ipykernel)",
   "language": "python",
   "name": "python3"
  },
  "language_info": {
   "codemirror_mode": {
    "name": "ipython",
    "version": 3
   },
   "file_extension": ".py",
   "mimetype": "text/x-python",
   "name": "python",
   "nbconvert_exporter": "python",
   "pygments_lexer": "ipython3",
   "version": "3.10.8"
  }
 },
 "nbformat": 4,
 "nbformat_minor": 5
}
