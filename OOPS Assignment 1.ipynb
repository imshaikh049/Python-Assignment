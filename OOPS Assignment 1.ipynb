{
 "cells": [
  {
   "cell_type": "code",
   "execution_count": null,
   "id": "99037bc5-c052-49fb-92ce-32678699be31",
   "metadata": {},
   "outputs": [],
   "source": [
    "Q1. What is Abstraction in OOPs? Explain with an example.\n",
    "Abstraction in Object-Oriented Programming (OOP) refers to the concept of hiding the complex internal implementation details of an object and exposing only the necessary parts to the user. It allows users to interact with objects through a well-defined interface, without needing to understand the underlying implementation.\n",
    "\n",
    "Example: Consider a Car class. When you drive a car, you don't need to know the internal mechanics like how the engine works or how the gears are shifted. You just use the drive() function."
   ]
  },
  {
   "cell_type": "code",
   "execution_count": null,
   "id": "20faf7ae-e901-4261-891f-707206f1d33c",
   "metadata": {},
   "outputs": [],
   "source": [
    "class Car:\n",
    "    def __init__(self, make, model):\n",
    "        self.make = make\n",
    "        self.model = model\n",
    "    \n",
    "    def start(self):\n",
    "        print(f\"{self.make} {self.model} is starting.\")\n",
    "    \n",
    "    def drive(self):\n",
    "        print(f\"Driving {self.make} {self.model}.\")\n",
    "    \n",
    "# Using abstraction\n",
    "my_car = Car(\"Toyota\", \"Corolla\")\n",
    "my_car.start()\n",
    "my_car.drive()\n"
   ]
  },
  {
   "cell_type": "code",
   "execution_count": null,
   "id": "8fc419d5-e585-48de-991f-1e64ff584e84",
   "metadata": {},
   "outputs": [],
   "source": [
    "Q2. Differentiate between Abstraction and Encapsulation. Explain with an example.\n",
    "Abstraction and Encapsulation are both fundamental concepts in OOP but serve different purposes:\n",
    "\n",
    "Abstraction: Focuses on hiding the complexity and only showing the essential details to the user. It hides the internal implementation but shows the functionality.\n",
    "\n",
    "Encapsulation: Involves bundling the data (attributes) and methods (functions) that operate on the data into a single unit or class and restricting direct access to some of the object's components. It protects the object's internal state by providing controlled access via public methods."
   ]
  },
  {
   "cell_type": "code",
   "execution_count": null,
   "id": "f59aeac0-b268-46c7-b504-6ecc96596a02",
   "metadata": {},
   "outputs": [],
   "source": [
    "# Example of Encapsulation and Abstraction\n",
    "\n",
    "class BankAccount:\n",
    "    def __init__(self, account_number, balance):\n",
    "        self.__account_number = account_number  # private variable\n",
    "        self.__balance = balance  # private variable\n",
    "    \n",
    "    def deposit(self, amount):\n",
    "        self.__balance += amount\n",
    "    \n",
    "    def withdraw(self, amount):\n",
    "        if amount <= self.__balance:\n",
    "            self.__balance -= amount\n",
    "        else:\n",
    "            print(\"Insufficient balance\")\n",
    "    \n",
    "    def get_balance(self):\n",
    "        return self.__balance\n",
    "\n",
    "# Encapsulation hides internal variables (account number, balance)\n",
    "# Abstraction only shows necessary methods like deposit and withdraw\n",
    "account = BankAccount(\"123456789\", 1000)\n",
    "account.deposit(500)\n",
    "account.withdraw(300)\n",
    "print(account.get_balance())  # Output: 1200\n"
   ]
  },
  {
   "cell_type": "code",
   "execution_count": null,
   "id": "bcaa9e95-d9f4-49d7-9507-11b734a0ebbd",
   "metadata": {},
   "outputs": [],
   "source": [
    "Q3. What is the abc module in Python? Why is it used?\n",
    "The abc module in Python stands for Abstract Base Classes. It is used to define abstract base classes that cannot be instantiated directly. An abstract class contains one or more abstract methods that must be implemented by subclasses.\n",
    "\n",
    "The abc module helps in defining abstract methods using the @abstractmethod decorator, and ensures that any subclass of the abstract class implements those methods."
   ]
  },
  {
   "cell_type": "code",
   "execution_count": null,
   "id": "2c7302a8-5c05-4801-b29e-a960f45605bf",
   "metadata": {},
   "outputs": [],
   "source": [
    "from abc import ABC, abstractmethod\n",
    "\n",
    "class Animal(ABC):\n",
    "    @abstractmethod\n",
    "    def sound(self):\n",
    "        pass\n",
    "\n",
    "class Dog(Animal):\n",
    "    def sound(self):\n",
    "        return \"Bark\"\n",
    "\n",
    "class Cat(Animal):\n",
    "    def sound(self):\n",
    "        return \"Meow\"\n",
    "\n",
    "# animal = Animal()  # Error: Can't instantiate abstract class\n",
    "dog = Dog()\n",
    "print(dog.sound())  # Output: Bark\n"
   ]
  },
  {
   "cell_type": "code",
   "execution_count": null,
   "id": "11dbafe0-d889-4ceb-af64-a5aae5e78bcb",
   "metadata": {},
   "outputs": [],
   "source": [
    "Q4. How can we achieve data abstraction?\n",
    "Data abstraction in Python can be achieved by:\n",
    "\n",
    "Using abstract classes and methods: You can use the abc module to create abstract classes with abstract methods that define the interface. Subclasses must provide the specific implementation of the abstract methods.\n",
    "\n",
    "Hiding data using encapsulation: By defining private attributes and methods, you can restrict access to certain parts of a class, thus providing an abstract view to the user. The user interacts with the object through public methods without needing to understand or access the underlying details."
   ]
  },
  {
   "cell_type": "code",
   "execution_count": null,
   "id": "3d46111d-6cc0-4140-9c68-3792eb22b615",
   "metadata": {},
   "outputs": [],
   "source": [
    "from abc import ABC, abstractmethod\n",
    "\n",
    "class Shape(ABC):\n",
    "    @abstractmethod\n",
    "    def area(self):\n",
    "        pass\n",
    "\n",
    "class Circle(Shape):\n",
    "    def __init__(self, radius):\n",
    "        self.__radius = radius  # Encapsulation, hiding radius\n",
    "\n",
    "    def area(self):\n",
    "        return 3.14 * self.__radius ** 2\n",
    "\n",
    "# Abstracting the complex calculation of the area\n",
    "circle = Circle(5)\n",
    "print(circle.area())  # Output: 78.5\n"
   ]
  },
  {
   "cell_type": "code",
   "execution_count": null,
   "id": "2b074f6e-04d6-41c0-8a0f-12b09c41f257",
   "metadata": {},
   "outputs": [],
   "source": [
    "Q5. Can we create an instance of an abstract class? Explain your answer.\n",
    "No, you cannot create an instance of an abstract class. An abstract class is a class that contains one or more abstract methods, which are methods without an implementation. Abstract classes are designed to serve as a blueprint for other classes. Since they contain abstract methods, they do not have complete functionality, and therefore, cannot be instantiated."
   ]
  },
  {
   "cell_type": "code",
   "execution_count": null,
   "id": "810cc0b6-4538-4070-8762-ca85b673b052",
   "metadata": {},
   "outputs": [],
   "source": [
    "from abc import ABC, abstractmethod\n",
    "\n",
    "class Vehicle(ABC):\n",
    "    @abstractmethod\n",
    "    def start_engine(self):\n",
    "        pass\n",
    "\n",
    "# vehicle = Vehicle()  # This will raise an error\n"
   ]
  },
  {
   "cell_type": "code",
   "execution_count": null,
   "id": "60d5476a-bed6-4482-baec-9f5e5663ba0c",
   "metadata": {},
   "outputs": [],
   "source": []
  }
 ],
 "metadata": {
  "kernelspec": {
   "display_name": "Python 3 (ipykernel)",
   "language": "python",
   "name": "python3"
  },
  "language_info": {
   "codemirror_mode": {
    "name": "ipython",
    "version": 3
   },
   "file_extension": ".py",
   "mimetype": "text/x-python",
   "name": "python",
   "nbconvert_exporter": "python",
   "pygments_lexer": "ipython3",
   "version": "3.10.8"
  }
 },
 "nbformat": 4,
 "nbformat_minor": 5
}
