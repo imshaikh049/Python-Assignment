{
 "cells": [
  {
   "cell_type": "code",
   "execution_count": null,
   "id": "3d8b08cb-e15b-4ad0-b777-95f3322887a8",
   "metadata": {},
   "outputs": [],
   "source": [
    "Q1. What is a database? Differentiate between SQL and NoSQL databases.\n",
    "A database is an organized collection of data that can be accessed, managed, and updated. It allows users to store, retrieve, and manipulate data efficiently.\n",
    "\n",
    "Differences between SQL and NoSQL databases:\n",
    "\n",
    "SQL Databases:\n",
    "\n",
    "Structured, relational databases.\n",
    "Use structured query language (SQL) for defining and manipulating data.\n",
    "Data is stored in tables with predefined schemas (rows and columns).\n",
    "Suitable for structured data.\n",
    "Examples: MySQL, PostgreSQL, Oracle.\n",
    "NoSQL Databases:\n",
    "\n",
    "Non-relational or distributed databases.\n",
    "Do not use SQL as the primary query language.\n",
    "Store data in various formats like key-value pairs, documents, graphs, or wide-column stores.\n",
    "Suitable for unstructured or semi-structured data.\n",
    "Examples: MongoDB, Cassandra, Redis."
   ]
  },
  {
   "cell_type": "code",
   "execution_count": null,
   "id": "a2e0cc72-86d8-4811-8bce-2386837fb2d2",
   "metadata": {},
   "outputs": [],
   "source": [
    "Q2. What is DDL? Explain why CREATE, DROP, ALTER, and TRUNCATE are used with an example.\n",
    "DDL (Data Definition Language) defines the structure of the database objects like tables, indexes, views, etc. It includes statements that define or modify the database schema.\n",
    "\n",
    "CREATE: Used to create a new database or table.\n",
    "sql\n",
    "\n",
    "CREATE TABLE students (id INT, name VARCHAR(50), age INT);\n",
    "DROP: Deletes a table or database along with its data.\n",
    "sql\n",
    "\n",
    "DROP TABLE students;\n",
    "ALTER: Used to modify an existing table structure (e.g., adding or removing columns).\n",
    "sql\n",
    "\n",
    "ALTER TABLE students ADD COLUMN grade VARCHAR(5);\n",
    "TRUNCATE: Deletes all rows from a table but keeps the structure intact.\n",
    "sql\n",
    "\n",
    "TRUNCATE TABLE students;"
   ]
  },
  {
   "cell_type": "code",
   "execution_count": null,
   "id": "52d382e1-7762-4eec-b362-55770849fec0",
   "metadata": {},
   "outputs": [],
   "source": [
    "Q3. What is DML? Explain INSERT, UPDATE, and DELETE with an example.\n",
    "DML (Data Manipulation Language) is used to manipulate data in the database. It includes operations like inserting, updating, and deleting records.\n",
    "\n",
    "INSERT: Adds new records into a table.\n",
    "\n",
    "sql\n",
    "\n",
    "INSERT INTO students (id, name, age) VALUES (1, 'John', 20);\n",
    "UPDATE: Modifies existing records in a table.\n",
    "\n",
    "sql\n",
    "\n",
    "UPDATE students SET age = 21 WHERE id = 1;\n",
    "DELETE: Removes records from a table.\n",
    "\n",
    "sql\n",
    "\n",
    "DELETE FROM students WHERE id = 1;"
   ]
  },
  {
   "cell_type": "code",
   "execution_count": null,
   "id": "ac58c7a5-9261-4e56-b525-ef6cb47e1302",
   "metadata": {},
   "outputs": [],
   "source": [
    "Q4. What is DQL? Explain SELECT with an example.\n",
    "DQL (Data Query Language) is used to retrieve data from the database. The main DQL command is SELECT.\n",
    "\n",
    "SELECT: Retrieves records from a database table based on specified conditions.\n",
    "sql\n",
    "SELECT name, age FROM students WHERE age > 18;\n",
    "This query fetches the name and age of students who are older than 18."
   ]
  },
  {
   "cell_type": "code",
   "execution_count": null,
   "id": "bd29c6f4-bea4-4272-8a5c-fd213179d354",
   "metadata": {},
   "outputs": [],
   "source": [
    "Q5. Explain Primary Key and Foreign Key.\n",
    "Primary Key: A column (or set of columns) that uniquely identifies each row in a table. It must contain unique and non-null values.\n",
    "\n",
    "Example: In a students table, id can be the primary key because each student has a unique ID.\n",
    "Foreign Key: A column that establishes a link between two tables. It refers to the primary key in another table, creating a relationship between them.\n",
    "\n",
    "Example: In an enrollments table, student_id can be a foreign key that refers to the id column of the students table.\n"
   ]
  },
  {
   "cell_type": "code",
   "execution_count": null,
   "id": "a396044d-a22e-47f1-861f-a4248238dad5",
   "metadata": {},
   "outputs": [],
   "source": [
    "Q6. Python code to connect MySQL to Python and explain cursor() and execute() methods.\n",
    "python\n",
    "Copy code\n",
    "import mysql.connector\n",
    "\n",
    "# Connecting to the MySQL database\n",
    "connection = mysql.connector.connect(\n",
    "    host=\"localhost\",\n",
    "    user=\"root\",\n",
    "    password=\"password\",\n",
    "    database=\"school\"\n",
    ")\n",
    "\n",
    "# Creating a cursor object\n",
    "cursor = connection.cursor()\n",
    "\n",
    "# Using the cursor to execute a query\n",
    "cursor.execute(\"SELECT * FROM students\")\n",
    "\n",
    "# Fetching and printing the result\n",
    "for row in cursor.fetchall():\n",
    "    print(row)\n",
    "\n",
    "# Closing the connection\n",
    "connection.close()\n",
    "cursor(): This method creates a cursor object, which is used to execute SQL queries and fetch results from the database.\n",
    "execute(): Executes a SQL query passed as an argument to the method.\n"
   ]
  },
  {
   "cell_type": "code",
   "execution_count": null,
   "id": "a2046cd4-5e0d-425d-a80e-e1c017240406",
   "metadata": {},
   "outputs": [],
   "source": [
    "Q7. Order of execution of SQL clauses in an SQL query:\n",
    "FROM: Specifies the table to retrieve data from.\n",
    "JOIN: Combines rows from multiple tables.\n",
    "WHERE: Filters the rows based on a condition.\n",
    "GROUP BY: Groups rows that have the same values in specified columns.\n",
    "HAVING: Filters the groups based on a condition.\n",
    "SELECT: Specifies the columns to return.\n",
    "ORDER BY: Sorts the result set.\n",
    "LIMIT/OFFSET: Limits the number of rows returned."
   ]
  },
  {
   "cell_type": "code",
   "execution_count": null,
   "id": "04b110e1-c857-4cb2-9e42-1afdd0a71290",
   "metadata": {},
   "outputs": [],
   "source": []
  }
 ],
 "metadata": {
  "kernelspec": {
   "display_name": "Python 3 (ipykernel)",
   "language": "python",
   "name": "python3"
  },
  "language_info": {
   "codemirror_mode": {
    "name": "ipython",
    "version": 3
   },
   "file_extension": ".py",
   "mimetype": "text/x-python",
   "name": "python",
   "nbconvert_exporter": "python",
   "pygments_lexer": "ipython3",
   "version": "3.10.8"
  }
 },
 "nbformat": 4,
 "nbformat_minor": 5
}
