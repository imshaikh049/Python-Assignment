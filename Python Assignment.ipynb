{
 "cells": [
  {
   "cell_type": "markdown",
   "id": "e42c44ad-e8a7-46b9-9f6c-d94af9cd240c",
   "metadata": {},
   "source": [
    "## Q1. Explain with an example each when to use a for loop and a while loop."
   ]
  },
  {
   "cell_type": "markdown",
   "id": "3bdb3277-f6ee-4d02-9ba2-fd2170a284e9",
   "metadata": {},
   "source": [
    "## For Loop:\n",
    "A for loop is used when you know the exact number of iterations you want to perform. It is best suited for situations where you are iterating over a sequence, such as a list, string, or range of numbers."
   ]
  },
  {
   "cell_type": "code",
   "execution_count": 3,
   "id": "6888bc79-65b1-439b-a4f3-08cb954bd5d4",
   "metadata": {},
   "outputs": [
    {
     "name": "stdout",
     "output_type": "stream",
     "text": [
      "1\n",
      "2\n",
      "3\n",
      "4\n",
      "5\n"
     ]
    }
   ],
   "source": [
    "# Printing numbers from 1 to 5 using a for loop\n",
    "for i in range(1, 6):\n",
    "    print(i)"
   ]
  },
  {
   "cell_type": "markdown",
   "id": "34bb9630-6668-47c3-814b-e886e4bfc035",
   "metadata": {},
   "source": [
    "## While Loop:\n",
    "A while loop is used when the number of iterations is not predetermined. It continues to execute as long as the condition remains True."
   ]
  },
  {
   "cell_type": "code",
   "execution_count": 4,
   "id": "22c47448-647a-491a-88c3-6e979795b815",
   "metadata": {},
   "outputs": [
    {
     "name": "stdout",
     "output_type": "stream",
     "text": [
      "1\n",
      "2\n",
      "3\n",
      "4\n",
      "5\n"
     ]
    }
   ],
   "source": [
    "# Printing numbers from 1 to 5 using a while loop\n",
    "i = 1\n",
    "while i <= 5:\n",
    "    print(i)\n",
    "    i += 1\n"
   ]
  },
  {
   "cell_type": "markdown",
   "id": "37e539da-e751-41bb-8170-66e6df0fbd46",
   "metadata": {},
   "source": [
    "## Q2. Python program to print the sum and product of the first 10 natural numbers using for and while loop.\n",
    "Using for loop:"
   ]
  },
  {
   "cell_type": "code",
   "execution_count": 5,
   "id": "38572abc-2b4a-4223-8e9f-08f699277d41",
   "metadata": {},
   "outputs": [
    {
     "name": "stdout",
     "output_type": "stream",
     "text": [
      "Sum of first 10 natural numbers: 55\n",
      "Product of first 10 natural numbers: 3628800\n"
     ]
    }
   ],
   "source": [
    "# Sum and Product using for loop\n",
    "sum_num = 0\n",
    "product = 1\n",
    "for i in range(1, 11):\n",
    "    sum_num += i\n",
    "    product *= i\n",
    "\n",
    "print(f\"Sum of first 10 natural numbers: {sum_num}\")\n",
    "print(f\"Product of first 10 natural numbers: {product}\")\n"
   ]
  },
  {
   "cell_type": "code",
   "execution_count": 6,
   "id": "ab1dd93a-ce97-467d-8d74-5adcaec5cfde",
   "metadata": {},
   "outputs": [
    {
     "name": "stdout",
     "output_type": "stream",
     "text": [
      "Sum of first 10 natural numbers: 55\n",
      "Product of first 10 natural numbers: 3628800\n"
     ]
    }
   ],
   "source": [
    "# Sum and Product using for loop\n",
    "sum_num = 0\n",
    "product = 1\n",
    "for i in range(1, 11):\n",
    "    sum_num += i\n",
    "    product *= i\n",
    "\n",
    "print(f\"Sum of first 10 natural numbers: {sum_num}\")\n",
    "print(f\"Product of first 10 natural numbers: {product}\")\n"
   ]
  },
  {
   "cell_type": "code",
   "execution_count": 7,
   "id": "4d39c7f6-cf61-4f56-9a22-29f633289395",
   "metadata": {},
   "outputs": [],
   "source": [
    "## Using while loop:"
   ]
  },
  {
   "cell_type": "code",
   "execution_count": 8,
   "id": "a9ffce1f-79e3-42ce-8927-c9626485a84a",
   "metadata": {},
   "outputs": [
    {
     "name": "stdout",
     "output_type": "stream",
     "text": [
      "Sum of first 10 natural numbers: 55\n",
      "Product of first 10 natural numbers: 3628800\n"
     ]
    }
   ],
   "source": [
    "# Sum and Product using while loop\n",
    "sum_num = 0\n",
    "product = 1\n",
    "i = 1\n",
    "while i <= 10:\n",
    "    sum_num += i\n",
    "    product *= i\n",
    "    i += 1\n",
    "\n",
    "print(f\"Sum of first 10 natural numbers: {sum_num}\")\n",
    "print(f\"Product of first 10 natural numbers: {product}\")\n"
   ]
  },
  {
   "cell_type": "markdown",
   "id": "bd2410c7-ac9f-43ec-8e8e-7149eaaecdfe",
   "metadata": {},
   "source": [
    "## Q3. Python program to compute the electricity bill for a household."
   ]
  },
  {
   "cell_type": "code",
   "execution_count": 9,
   "id": "b28e8e52-7ad7-48ef-b766-24cf6bfe6cde",
   "metadata": {},
   "outputs": [
    {
     "name": "stdin",
     "output_type": "stream",
     "text": [
      "Enter electricity units consumed:  500\n"
     ]
    },
    {
     "name": "stdout",
     "output_type": "stream",
     "text": [
      "Total electricity bill: Rs. 6050.0\n"
     ]
    }
   ],
   "source": [
    "# Program to calculate electricity bill based on units consumed\n",
    "units = int(input(\"Enter electricity units consumed: \"))\n",
    "\n",
    "bill = 0\n",
    "\n",
    "if units <= 100:\n",
    "    bill = units * 4.5\n",
    "elif units <= 200:\n",
    "    bill = (100 * 4.5) + (units - 100) * 6\n",
    "elif units <= 300:\n",
    "    bill = (100 * 4.5) + (100 * 6) + (units - 200) * 10\n",
    "else:\n",
    "    bill = (100 * 4.5) + (100 * 6) + (100 * 10) + (units - 300) * 20\n",
    "\n",
    "print(f\"Total electricity bill: Rs. {bill}\")\n",
    "\n",
    "# Test case: for 310 units, the bill should be Rs. 2250\n"
   ]
  },
  {
   "cell_type": "markdown",
   "id": "1d0a6dab-ec44-48e5-9d0b-3bc5c033f44a",
   "metadata": {},
   "source": [
    "## Q4. Python program to calculate cube of numbers and filter those divisible by 4 or 5."
   ]
  },
  {
   "cell_type": "code",
   "execution_count": 10,
   "id": "a1c13006-6230-4955-bf0b-eaf700a74a0e",
   "metadata": {},
   "outputs": [
    {
     "name": "stdout",
     "output_type": "stream",
     "text": [
      "Numbers whose cubes are divisible by 4 or 5: [2, 4, 5, 6, 8, 10, 12, 14, 15, 16, 18, 20, 22, 24, 25, 26, 28, 30, 32, 34, 35, 36, 38, 40, 42, 44, 45, 46, 48, 50, 52, 54, 55, 56, 58, 60, 62, 64, 65, 66, 68, 70, 72, 74, 75, 76, 78, 80, 82, 84, 85, 86, 88, 90, 92, 94, 95, 96, 98, 100]\n",
      "Numbers whose cubes are divisible by 4 or 5 using while loop: [2, 4, 5, 6, 8, 10, 12, 14, 15, 16, 18, 20, 22, 24, 25, 26, 28, 30, 32, 34, 35, 36, 38, 40, 42, 44, 45, 46, 48, 50, 52, 54, 55, 56, 58, 60, 62, 64, 65, 66, 68, 70, 72, 74, 75, 76, 78, 80, 82, 84, 85, 86, 88, 90, 92, 94, 95, 96, 98, 100]\n"
     ]
    }
   ],
   "source": [
    "# List from 1 to 100\n",
    "numbers = list(range(1, 101))\n",
    "filtered_numbers = []\n",
    "\n",
    "# Using for loop\n",
    "for num in numbers:\n",
    "    cube = num ** 3\n",
    "    if cube % 4 == 0 or cube % 5 == 0:\n",
    "        filtered_numbers.append(num)\n",
    "\n",
    "print(f\"Numbers whose cubes are divisible by 4 or 5: {filtered_numbers}\")\n",
    "\n",
    "# Using while loop\n",
    "filtered_numbers_while = []\n",
    "i = 1\n",
    "while i <= 100:\n",
    "    cube = i ** 3\n",
    "    if cube % 4 == 0 or cube % 5 == 0:\n",
    "        filtered_numbers_while.append(i)\n",
    "    i += 1\n",
    "\n",
    "print(f\"Numbers whose cubes are divisible by 4 or 5 using while loop: {filtered_numbers_while}\")\n"
   ]
  },
  {
   "cell_type": "code",
   "execution_count": null,
   "id": "9c9a248e-3976-4f57-805d-e27ce3350a50",
   "metadata": {},
   "outputs": [],
   "source": [
    "## "
   ]
  }
 ],
 "metadata": {
  "kernelspec": {
   "display_name": "Python 3 (ipykernel)",
   "language": "python",
   "name": "python3"
  },
  "language_info": {
   "codemirror_mode": {
    "name": "ipython",
    "version": 3
   },
   "file_extension": ".py",
   "mimetype": "text/x-python",
   "name": "python",
   "nbconvert_exporter": "python",
   "pygments_lexer": "ipython3",
   "version": "3.10.8"
  }
 },
 "nbformat": 4,
 "nbformat_minor": 5
}
