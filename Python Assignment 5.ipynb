{
 "cells": [
  {
   "cell_type": "code",
   "execution_count": null,
   "id": "a7cee49f-d5ff-4cf5-8d20-c00b31c16c73",
   "metadata": {},
   "outputs": [],
   "source": [
    "1. Program to accept percentage from the user and display the grade:"
   ]
  },
  {
   "cell_type": "code",
   "execution_count": null,
   "id": "41be9a39-d96e-4aaf-9398-937ad43d9b9f",
   "metadata": {},
   "outputs": [
    {
     "name": "stdin",
     "output_type": "stream",
     "text": [
      "Enter your percentage:  500\n"
     ]
    },
    {
     "name": "stdout",
     "output_type": "stream",
     "text": [
      "Grade: A\n"
     ]
    }
   ],
   "source": [
    "# Accept percentage from user\n",
    "percentage = float(input(\"Enter your percentage: \"))\n",
    "\n",
    "# Display grade based on the percentage\n",
    "if percentage > 90:\n",
    "    print(\"Grade: A\")\n",
    "elif 80 < percentage <= 90:\n",
    "    print(\"Grade: B\")\n",
    "elif 60 <= percentage <= 80:\n",
    "    print(\"Grade: C\")\n",
    "else:\n",
    "    print(\"Grade: D\")\n"
   ]
  },
  {
   "cell_type": "code",
   "execution_count": null,
   "id": "383d9609-fb5c-4e30-965c-d614b2aec46a",
   "metadata": {},
   "outputs": [],
   "source": [
    "2. Program to accept the cost price of a bike and display the road tax to be paid:"
   ]
  },
  {
   "cell_type": "code",
   "execution_count": null,
   "id": "eddffd6b-6982-4b1a-b05f-0058d11e6f8f",
   "metadata": {},
   "outputs": [],
   "source": [
    "# Accept cost price from user\n",
    "cost_price = float(input(\"Enter the cost price of the bike: \"))\n",
    "\n",
    "# Determine the tax percentage\n",
    "if cost_price > 100000:\n",
    "    tax = 0.15 * cost_price\n",
    "elif 50000 <= cost_price <= 100000:\n",
    "    tax = 0.10 * cost_price\n",
    "else:\n",
    "    tax = 0.05 * cost_price\n",
    "\n",
    "# Display the tax\n",
    "print(f\"Road Tax to be paid: Rs {tax}\")\n"
   ]
  },
  {
   "cell_type": "code",
   "execution_count": null,
   "id": "b3edcbbc-c5cc-4ad5-af59-d95ffd5264e9",
   "metadata": {},
   "outputs": [],
   "source": [
    "3. Program to display monuments based on the city entered by the user:"
   ]
  },
  {
   "cell_type": "code",
   "execution_count": null,
   "id": "fdcfb4ba-87d8-4ce6-bd3e-b08ba05df36f",
   "metadata": {},
   "outputs": [],
   "source": [
    "# Accept city from user\n",
    "city = input(\"Enter a city (Delhi, Agra, Jaipur): \")\n",
    "\n",
    "# Display monument based on the city\n",
    "if city.lower() == \"delhi\":\n",
    "    print(\"Monument: Red Fort\")\n",
    "elif city.lower() == \"agra\":\n",
    "    print(\"Monument: Taj Mahal\")\n",
    "elif city.lower() == \"jaipur\":\n",
    "    print(\"Monument: Jal Mahal\")\n",
    "else:\n",
    "    print(\"City not recognized\")\n"
   ]
  },
  {
   "cell_type": "code",
   "execution_count": null,
   "id": "fd918c80-2e33-4989-b402-9298aa9af058",
   "metadata": {},
   "outputs": [],
   "source": [
    "4. Check how many times a given number can be divided by 3 before it is less than or equal to 10:"
   ]
  },
  {
   "cell_type": "code",
   "execution_count": 4,
   "id": "dcb93a9f-872b-4aea-a175-57b27f806248",
   "metadata": {},
   "outputs": [
    {
     "name": "stdin",
     "output_type": "stream",
     "text": [
      "Enter a number:  500\n"
     ]
    },
    {
     "name": "stdout",
     "output_type": "stream",
     "text": [
      "The number can be divided 4 times by 3 before it is less than or equal to 10.\n"
     ]
    }
   ],
   "source": [
    "# Accept number from user\n",
    "number = int(input(\"Enter a number: \"))\n",
    "\n",
    "# Initialize a counter\n",
    "count = 0\n",
    "\n",
    "# Check how many times the number can be divided by 3\n",
    "while number > 10:\n",
    "    number //= 3\n",
    "    count += 1\n",
    "\n",
    "# Display the result\n",
    "print(f\"The number can be divided {count} times by 3 before it is less than or equal to 10.\")\n"
   ]
  },
  {
   "cell_type": "code",
   "execution_count": null,
   "id": "0463b08f-ec84-4696-9a8b-97194594243f",
   "metadata": {},
   "outputs": [],
   "source": [
    "5. Why and When to Use while Loop in Python?"
   ]
  },
  {
   "cell_type": "code",
   "execution_count": null,
   "id": "a01f7f8a-be2e-42df-98f2-e5109baf9c5d",
   "metadata": {},
   "outputs": [],
   "source": [
    "Why:\n",
    "A while loop is used when you need to repeat a block of code while a condition is true. It is primarily used when the number of iterations is not known in advance, and you want the loop to continue until a specific condition is met."
   ]
  },
  {
   "cell_type": "code",
   "execution_count": null,
   "id": "00e07c96-7280-4c55-b2dc-ced8bd173c56",
   "metadata": {},
   "outputs": [],
   "source": [
    "When:\n",
    "A while loop is useful in scenarios like waiting for user input, continuously checking conditions, or when performing repeated calculations until a specific threshold is met."
   ]
  },
  {
   "cell_type": "code",
   "execution_count": null,
   "id": "bcac69e6-7ced-48f7-abf9-fd9aec346f11",
   "metadata": {},
   "outputs": [],
   "source": [
    "# Example to take input until the user enters \"stop\"\n",
    "user_input = \"\"\n",
    "while user_input.lower() != \"stop\":\n",
    "    user_input = input(\"Enter something (or type 'stop' to end): \")\n",
    "    print(f\"You entered: {user_input}\")"
   ]
  },
  {
   "cell_type": "code",
   "execution_count": null,
   "id": "4c540e33-b2bd-40f0-a400-299073e2385b",
   "metadata": {},
   "outputs": [],
   "source": [
    "6. Use nested while loops to print 3 different patterns:\n",
    "Pattern 1: Right-aligned Triangle"
   ]
  },
  {
   "cell_type": "code",
   "execution_count": null,
   "id": "13d06c10-14f4-4a47-b10c-4efa66e1408c",
   "metadata": {},
   "outputs": [],
   "source": [
    "n = 5\n",
    "i = 1\n",
    "while i <= n:\n",
    "    print(\" \" * (n - i) + \"*\" * i)\n",
    "    i += 1\n"
   ]
  },
  {
   "cell_type": "code",
   "execution_count": null,
   "id": "cfb6383f-c54c-4c59-bd07-04624f55fee1",
   "metadata": {},
   "outputs": [],
   "source": []
  }
 ],
 "metadata": {
  "kernelspec": {
   "display_name": "Python 3 (ipykernel)",
   "language": "python",
   "name": "python3"
  },
  "language_info": {
   "codemirror_mode": {
    "name": "ipython",
    "version": 3
   },
   "file_extension": ".py",
   "mimetype": "text/x-python",
   "name": "python",
   "nbconvert_exporter": "python",
   "pygments_lexer": "ipython3",
   "version": "3.10.8"
  }
 },
 "nbformat": 4,
 "nbformat_minor": 5
}
